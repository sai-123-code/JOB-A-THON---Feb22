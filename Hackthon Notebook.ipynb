{
 "cells": [
  {
   "cell_type": "markdown",
   "metadata": {},
   "source": [
    "# Installing specfied Libraries"
   ]
  },
  {
   "cell_type": "code",
   "execution_count": null,
   "metadata": {},
   "outputs": [],
   "source": [
    "pip install xgboost"
   ]
  },
  {
   "cell_type": "code",
   "execution_count": 2,
   "metadata": {
    "execution": {
     "iopub.execute_input": "2022-02-13T08:08:36.060445Z",
     "iopub.status.busy": "2022-02-13T08:08:36.060164Z",
     "iopub.status.idle": "2022-02-13T08:08:37.156521Z",
     "shell.execute_reply": "2022-02-13T08:08:37.155801Z",
     "shell.execute_reply.started": "2022-02-13T08:08:36.060413Z"
    }
   },
   "outputs": [],
   "source": [
    "# Essentials\n",
    "import numpy as np\n",
    "import pandas as pd\n",
    "import datetime\n",
    "import random\n",
    "\n",
    "# Plots\n",
    "import seaborn as sns\n",
    "import matplotlib.pyplot as plt\n",
    "\n",
    "# Models\n",
    "from sklearn.preprocessing import StandardScaler\n",
    "from sklearn.model_selection import train_test_split\n",
    "from sklearn.metrics import mean_squared_error as mse\n",
    "from sklearn.metrics import mean_absolute_error as mae\n",
    "from sklearn.metrics import r2_score\n",
    "\n",
    "from math import sqrt\n",
    "\n",
    "from sklearn.model_selection import GridSearchCV\n",
    "from sklearn.model_selection import RandomizedSearchCV\n",
    "\n",
    "from sklearn.neighbors import KNeighborsRegressor\n",
    "from sklearn.linear_model import Ridge\n",
    "from sklearn.linear_model import Lasso\n",
    "from sklearn.tree import DecisionTreeRegressor\n",
    "from sklearn.ensemble import RandomForestRegressor\n",
    "from xgboost import XGBRegressor\n",
    "from sklearn.model_selection import KFold"
   ]
  },
  {
   "cell_type": "code",
   "execution_count": 3,
   "metadata": {
    "execution": {
     "iopub.execute_input": "2022-02-13T08:08:37.158259Z",
     "iopub.status.busy": "2022-02-13T08:08:37.158006Z",
     "iopub.status.idle": "2022-02-13T08:08:37.329364Z",
     "shell.execute_reply": "2022-02-13T08:08:37.328679Z",
     "shell.execute_reply.started": "2022-02-13T08:08:37.158224Z"
    }
   },
   "outputs": [
    {
     "data": {
      "text/plain": [
       "((89197, 10), (11121, 9))"
      ]
     },
     "execution_count": 3,
     "metadata": {},
     "output_type": "execute_result"
    }
   ],
   "source": [
    "train=pd.read_csv(\"../input/traindata/train_0OECtn8.csv\")\n",
    "test=pd.read_csv(\"../input/testdata/test_1zqHu22.csv\")\n",
    "train.shape, test.shape"
   ]
  },
  {
   "cell_type": "code",
   "execution_count": 4,
   "metadata": {
    "execution": {
     "iopub.execute_input": "2022-02-13T08:08:37.330865Z",
     "iopub.status.busy": "2022-02-13T08:08:37.330442Z",
     "iopub.status.idle": "2022-02-13T08:08:37.355030Z",
     "shell.execute_reply": "2022-02-13T08:08:37.354360Z",
     "shell.execute_reply.started": "2022-02-13T08:08:37.330825Z"
    }
   },
   "outputs": [
    {
     "data": {
      "text/html": [
       "<div>\n",
       "<style scoped>\n",
       "    .dataframe tbody tr th:only-of-type {\n",
       "        vertical-align: middle;\n",
       "    }\n",
       "\n",
       "    .dataframe tbody tr th {\n",
       "        vertical-align: top;\n",
       "    }\n",
       "\n",
       "    .dataframe thead th {\n",
       "        text-align: right;\n",
       "    }\n",
       "</style>\n",
       "<table border=\"1\" class=\"dataframe\">\n",
       "  <thead>\n",
       "    <tr style=\"text-align: right;\">\n",
       "      <th></th>\n",
       "      <th>row_id</th>\n",
       "      <th>user_id</th>\n",
       "      <th>category_id</th>\n",
       "      <th>video_id</th>\n",
       "      <th>age</th>\n",
       "      <th>gender</th>\n",
       "      <th>profession</th>\n",
       "      <th>followers</th>\n",
       "      <th>views</th>\n",
       "      <th>engagement_score</th>\n",
       "    </tr>\n",
       "  </thead>\n",
       "  <tbody>\n",
       "    <tr>\n",
       "      <th>0</th>\n",
       "      <td>1</td>\n",
       "      <td>19990</td>\n",
       "      <td>37</td>\n",
       "      <td>128</td>\n",
       "      <td>24</td>\n",
       "      <td>Male</td>\n",
       "      <td>Student</td>\n",
       "      <td>180</td>\n",
       "      <td>1000</td>\n",
       "      <td>4.33</td>\n",
       "    </tr>\n",
       "    <tr>\n",
       "      <th>1</th>\n",
       "      <td>2</td>\n",
       "      <td>5304</td>\n",
       "      <td>32</td>\n",
       "      <td>132</td>\n",
       "      <td>14</td>\n",
       "      <td>Female</td>\n",
       "      <td>Student</td>\n",
       "      <td>330</td>\n",
       "      <td>714</td>\n",
       "      <td>1.79</td>\n",
       "    </tr>\n",
       "    <tr>\n",
       "      <th>2</th>\n",
       "      <td>3</td>\n",
       "      <td>1840</td>\n",
       "      <td>12</td>\n",
       "      <td>24</td>\n",
       "      <td>19</td>\n",
       "      <td>Male</td>\n",
       "      <td>Student</td>\n",
       "      <td>180</td>\n",
       "      <td>138</td>\n",
       "      <td>4.35</td>\n",
       "    </tr>\n",
       "    <tr>\n",
       "      <th>3</th>\n",
       "      <td>4</td>\n",
       "      <td>12597</td>\n",
       "      <td>23</td>\n",
       "      <td>112</td>\n",
       "      <td>19</td>\n",
       "      <td>Male</td>\n",
       "      <td>Student</td>\n",
       "      <td>220</td>\n",
       "      <td>613</td>\n",
       "      <td>3.77</td>\n",
       "    </tr>\n",
       "    <tr>\n",
       "      <th>4</th>\n",
       "      <td>5</td>\n",
       "      <td>13626</td>\n",
       "      <td>23</td>\n",
       "      <td>112</td>\n",
       "      <td>27</td>\n",
       "      <td>Male</td>\n",
       "      <td>Working Professional</td>\n",
       "      <td>220</td>\n",
       "      <td>613</td>\n",
       "      <td>3.13</td>\n",
       "    </tr>\n",
       "    <tr>\n",
       "      <th>...</th>\n",
       "      <td>...</td>\n",
       "      <td>...</td>\n",
       "      <td>...</td>\n",
       "      <td>...</td>\n",
       "      <td>...</td>\n",
       "      <td>...</td>\n",
       "      <td>...</td>\n",
       "      <td>...</td>\n",
       "      <td>...</td>\n",
       "      <td>...</td>\n",
       "    </tr>\n",
       "    <tr>\n",
       "      <th>89192</th>\n",
       "      <td>89193</td>\n",
       "      <td>23996</td>\n",
       "      <td>15</td>\n",
       "      <td>32</td>\n",
       "      <td>25</td>\n",
       "      <td>Male</td>\n",
       "      <td>Other</td>\n",
       "      <td>340</td>\n",
       "      <td>662</td>\n",
       "      <td>3.91</td>\n",
       "    </tr>\n",
       "    <tr>\n",
       "      <th>89193</th>\n",
       "      <td>89194</td>\n",
       "      <td>20466</td>\n",
       "      <td>20</td>\n",
       "      <td>47</td>\n",
       "      <td>31</td>\n",
       "      <td>Male</td>\n",
       "      <td>Other</td>\n",
       "      <td>240</td>\n",
       "      <td>892</td>\n",
       "      <td>3.56</td>\n",
       "    </tr>\n",
       "    <tr>\n",
       "      <th>89194</th>\n",
       "      <td>89195</td>\n",
       "      <td>13655</td>\n",
       "      <td>16</td>\n",
       "      <td>97</td>\n",
       "      <td>25</td>\n",
       "      <td>Male</td>\n",
       "      <td>Student</td>\n",
       "      <td>270</td>\n",
       "      <td>462</td>\n",
       "      <td>4.23</td>\n",
       "    </tr>\n",
       "    <tr>\n",
       "      <th>89195</th>\n",
       "      <td>89196</td>\n",
       "      <td>24840</td>\n",
       "      <td>9</td>\n",
       "      <td>18</td>\n",
       "      <td>35</td>\n",
       "      <td>Male</td>\n",
       "      <td>Working Professional</td>\n",
       "      <td>230</td>\n",
       "      <td>819</td>\n",
       "      <td>3.77</td>\n",
       "    </tr>\n",
       "    <tr>\n",
       "      <th>89196</th>\n",
       "      <td>89197</td>\n",
       "      <td>27183</td>\n",
       "      <td>25</td>\n",
       "      <td>150</td>\n",
       "      <td>13</td>\n",
       "      <td>Male</td>\n",
       "      <td>Student</td>\n",
       "      <td>240</td>\n",
       "      <td>317</td>\n",
       "      <td>4.31</td>\n",
       "    </tr>\n",
       "  </tbody>\n",
       "</table>\n",
       "<p>89197 rows × 10 columns</p>\n",
       "</div>"
      ],
      "text/plain": [
       "       row_id  user_id  category_id  video_id  age  gender  \\\n",
       "0           1    19990           37       128   24    Male   \n",
       "1           2     5304           32       132   14  Female   \n",
       "2           3     1840           12        24   19    Male   \n",
       "3           4    12597           23       112   19    Male   \n",
       "4           5    13626           23       112   27    Male   \n",
       "...       ...      ...          ...       ...  ...     ...   \n",
       "89192   89193    23996           15        32   25    Male   \n",
       "89193   89194    20466           20        47   31    Male   \n",
       "89194   89195    13655           16        97   25    Male   \n",
       "89195   89196    24840            9        18   35    Male   \n",
       "89196   89197    27183           25       150   13    Male   \n",
       "\n",
       "                 profession  followers  views  engagement_score  \n",
       "0                   Student        180   1000              4.33  \n",
       "1                   Student        330    714              1.79  \n",
       "2                   Student        180    138              4.35  \n",
       "3                   Student        220    613              3.77  \n",
       "4      Working Professional        220    613              3.13  \n",
       "...                     ...        ...    ...               ...  \n",
       "89192                 Other        340    662              3.91  \n",
       "89193                 Other        240    892              3.56  \n",
       "89194               Student        270    462              4.23  \n",
       "89195  Working Professional        230    819              3.77  \n",
       "89196               Student        240    317              4.31  \n",
       "\n",
       "[89197 rows x 10 columns]"
      ]
     },
     "execution_count": 4,
     "metadata": {},
     "output_type": "execute_result"
    }
   ],
   "source": [
    "train"
   ]
  },
  {
   "cell_type": "markdown",
   "metadata": {},
   "source": [
    "# EDA ON DATA"
   ]
  },
  {
   "cell_type": "markdown",
   "metadata": {},
   "source": [
    "## Data type and Null values"
   ]
  },
  {
   "cell_type": "code",
   "execution_count": 5,
   "metadata": {
    "execution": {
     "iopub.execute_input": "2022-02-13T08:08:37.357082Z",
     "iopub.status.busy": "2022-02-13T08:08:37.356844Z",
     "iopub.status.idle": "2022-02-13T08:08:37.366191Z",
     "shell.execute_reply": "2022-02-13T08:08:37.365476Z",
     "shell.execute_reply.started": "2022-02-13T08:08:37.357049Z"
    }
   },
   "outputs": [
    {
     "data": {
      "text/plain": [
       "row_id                int64\n",
       "user_id               int64\n",
       "category_id           int64\n",
       "video_id              int64\n",
       "age                   int64\n",
       "gender               object\n",
       "profession           object\n",
       "followers             int64\n",
       "views                 int64\n",
       "engagement_score    float64\n",
       "dtype: object"
      ]
     },
     "execution_count": 5,
     "metadata": {},
     "output_type": "execute_result"
    }
   ],
   "source": [
    "train.dtypes"
   ]
  },
  {
   "cell_type": "code",
   "execution_count": 6,
   "metadata": {
    "execution": {
     "iopub.execute_input": "2022-02-13T08:08:37.367866Z",
     "iopub.status.busy": "2022-02-13T08:08:37.367521Z",
     "iopub.status.idle": "2022-02-13T08:08:37.394957Z",
     "shell.execute_reply": "2022-02-13T08:08:37.394259Z",
     "shell.execute_reply.started": "2022-02-13T08:08:37.367830Z"
    }
   },
   "outputs": [
    {
     "data": {
      "text/plain": [
       "row_id              0\n",
       "user_id             0\n",
       "category_id         0\n",
       "video_id            0\n",
       "age                 0\n",
       "gender              0\n",
       "profession          0\n",
       "followers           0\n",
       "views               0\n",
       "engagement_score    0\n",
       "dtype: int64"
      ]
     },
     "execution_count": 6,
     "metadata": {},
     "output_type": "execute_result"
    }
   ],
   "source": [
    "train.isnull().sum()"
   ]
  },
  {
   "cell_type": "code",
   "execution_count": 7,
   "metadata": {
    "execution": {
     "iopub.execute_input": "2022-02-13T08:08:37.396627Z",
     "iopub.status.busy": "2022-02-13T08:08:37.396156Z",
     "iopub.status.idle": "2022-02-13T08:08:37.410230Z",
     "shell.execute_reply": "2022-02-13T08:08:37.409410Z",
     "shell.execute_reply.started": "2022-02-13T08:08:37.396591Z"
    }
   },
   "outputs": [
    {
     "data": {
      "text/plain": [
       "5198     10\n",
       "13218    10\n",
       "1448     10\n",
       "13410    10\n",
       "7157     10\n",
       "         ..\n",
       "21507     2\n",
       "4404      2\n",
       "21430     2\n",
       "17541     2\n",
       "11279     2\n",
       "Name: user_id, Length: 27734, dtype: int64"
      ]
     },
     "execution_count": 7,
     "metadata": {},
     "output_type": "execute_result"
    }
   ],
   "source": [
    "train[\"user_id\"].value_counts()"
   ]
  },
  {
   "cell_type": "code",
   "execution_count": null,
   "metadata": {
    "execution": {
     "iopub.execute_input": "2022-02-13T06:56:33.287795Z",
     "iopub.status.busy": "2022-02-13T06:56:33.287225Z",
     "iopub.status.idle": "2022-02-13T06:56:33.291559Z",
     "shell.execute_reply": "2022-02-13T06:56:33.290978Z",
     "shell.execute_reply.started": "2022-02-13T06:56:33.287754Z"
    }
   },
   "outputs": [],
   "source": [
    "#train['user_id'].value_counts().plot(kind='bar');"
   ]
  },
  {
   "cell_type": "code",
   "execution_count": 8,
   "metadata": {
    "execution": {
     "iopub.execute_input": "2022-02-13T08:08:37.425374Z",
     "iopub.status.busy": "2022-02-13T08:08:37.425166Z",
     "iopub.status.idle": "2022-02-13T08:08:37.432103Z",
     "shell.execute_reply": "2022-02-13T08:08:37.431339Z",
     "shell.execute_reply.started": "2022-02-13T08:08:37.425350Z"
    }
   },
   "outputs": [
    {
     "data": {
      "text/plain": [
       "5     8104\n",
       "8     6313\n",
       "25    4880\n",
       "19    4679\n",
       "21    4043\n",
       "12    3889\n",
       "11    3766\n",
       "4     3678\n",
       "34    3297\n",
       "16    3264\n",
       "13    2777\n",
       "32    2712\n",
       "23    2671\n",
       "18    2241\n",
       "42    2178\n",
       "15    2164\n",
       "9     1886\n",
       "7     1885\n",
       "31    1855\n",
       "3     1845\n",
       "1     1810\n",
       "6     1399\n",
       "39    1339\n",
       "28    1309\n",
       "10    1217\n",
       "17    1208\n",
       "26    1156\n",
       "27    1103\n",
       "36    1025\n",
       "43    1019\n",
       "35     986\n",
       "37     962\n",
       "29     916\n",
       "20     702\n",
       "30     548\n",
       "41     545\n",
       "14     536\n",
       "38     534\n",
       "24     524\n",
       "33     517\n",
       "40     458\n",
       "22     366\n",
       "46     236\n",
       "45     227\n",
       "44     214\n",
       "2      167\n",
       "47      47\n",
       "Name: category_id, dtype: int64"
      ]
     },
     "execution_count": 8,
     "metadata": {},
     "output_type": "execute_result"
    }
   ],
   "source": [
    "train[\"category_id\"].value_counts()"
   ]
  },
  {
   "cell_type": "code",
   "execution_count": 9,
   "metadata": {
    "execution": {
     "iopub.execute_input": "2022-02-13T08:08:42.293073Z",
     "iopub.status.busy": "2022-02-13T08:08:42.292522Z",
     "iopub.status.idle": "2022-02-13T08:08:42.300433Z",
     "shell.execute_reply": "2022-02-13T08:08:42.299810Z",
     "shell.execute_reply.started": "2022-02-13T08:08:42.293023Z"
    }
   },
   "outputs": [
    {
     "data": {
      "text/plain": [
       "112    1337\n",
       "53     1334\n",
       "1      1282\n",
       "65     1103\n",
       "42     1077\n",
       "       ... \n",
       "165      78\n",
       "171      78\n",
       "174      70\n",
       "166      66\n",
       "175      47\n",
       "Name: video_id, Length: 175, dtype: int64"
      ]
     },
     "execution_count": 9,
     "metadata": {},
     "output_type": "execute_result"
    }
   ],
   "source": [
    "train[\"video_id\"].value_counts()"
   ]
  },
  {
   "cell_type": "markdown",
   "metadata": {},
   "source": [
    "## Engagement_score: the variable we're trying to predict"
   ]
  },
  {
   "cell_type": "code",
   "execution_count": 10,
   "metadata": {
    "execution": {
     "iopub.execute_input": "2022-02-13T08:08:44.337387Z",
     "iopub.status.busy": "2022-02-13T08:08:44.336730Z",
     "iopub.status.idle": "2022-02-13T08:08:44.978622Z",
     "shell.execute_reply": "2022-02-13T08:08:44.977963Z",
     "shell.execute_reply.started": "2022-02-13T08:08:44.337347Z"
    }
   },
   "outputs": [
    {
     "name": "stderr",
     "output_type": "stream",
     "text": [
      "/opt/conda/lib/python3.7/site-packages/seaborn/distributions.py:2619: FutureWarning: `distplot` is a deprecated function and will be removed in a future version. Please adapt your code to use either `displot` (a figure-level function with similar flexibility) or `histplot` (an axes-level function for histograms).\n",
      "  warnings.warn(msg, FutureWarning)\n"
     ]
    },
    {
     "data": {
      "image/png": "[encoded data removed]",
      "text/plain": [
       "<Figure size 576x504 with 1 Axes>"
      ]
     },
     "metadata": {},
     "output_type": "display_data"
    }
   ],
   "source": [
    "sns.set_style(\"white\")\n",
    "sns.set_color_codes(palette='deep')\n",
    "f, ax = plt.subplots(figsize=(8, 7))\n",
    "#Check the new distribution \n",
    "sns.distplot(train['engagement_score'], color=\"b\");\n",
    "ax.xaxis.grid(False)\n",
    "ax.set(ylabel=\"Frequency\")\n",
    "ax.set(xlabel=\"engagement_score\")\n",
    "ax.set(title=\"ES distribution\")\n",
    "sns.despine(trim=True, left=True)\n",
    "plt.show()"
   ]
  },
  {
   "cell_type": "code",
   "execution_count": 11,
   "metadata": {
    "execution": {
     "iopub.execute_input": "2022-02-13T08:08:49.389646Z",
     "iopub.status.busy": "2022-02-13T08:08:49.389209Z",
     "iopub.status.idle": "2022-02-13T08:08:49.398669Z",
     "shell.execute_reply": "2022-02-13T08:08:49.397869Z",
     "shell.execute_reply.started": "2022-02-13T08:08:49.389610Z"
    }
   },
   "outputs": [
    {
     "name": "stdout",
     "output_type": "stream",
     "text": [
      "Skewness: -0.855630\n",
      "Kurtosis: 0.640584\n"
     ]
    }
   ],
   "source": [
    "# Skew and kurt\n",
    "print(\"Skewness: %f\" % train['engagement_score'].skew())\n",
    "print(\"Kurtosis: %f\" % train['engagement_score'].kurt())"
   ]
  },
  {
   "cell_type": "markdown",
   "metadata": {},
   "source": [
    "## Converting category data to numerical"
   ]
  },
  {
   "cell_type": "code",
   "execution_count": 12,
   "metadata": {
    "execution": {
     "iopub.execute_input": "2022-02-13T08:08:51.984224Z",
     "iopub.status.busy": "2022-02-13T08:08:51.983694Z",
     "iopub.status.idle": "2022-02-13T08:08:52.019812Z",
     "shell.execute_reply": "2022-02-13T08:08:52.018963Z",
     "shell.execute_reply.started": "2022-02-13T08:08:51.984189Z"
    }
   },
   "outputs": [
    {
     "name": "stdout",
     "output_type": "stream",
     "text": [
      "Male      52397\n",
      "Female    36800\n",
      "Name: gender, dtype: int64\n"
     ]
    }
   ],
   "source": [
    "print(train['gender'].value_counts())\n",
    "dummies = pd.get_dummies(train['gender'],drop_first=True)\n",
    "train_data = pd.concat([train.drop('gender',axis=1),dummies],axis=1)"
   ]
  },
  {
   "cell_type": "code",
   "execution_count": 19,
   "metadata": {
    "execution": {
     "iopub.execute_input": "2022-02-13T08:14:01.668097Z",
     "iopub.status.busy": "2022-02-13T08:14:01.667561Z",
     "iopub.status.idle": "2022-02-13T08:14:01.679365Z",
     "shell.execute_reply": "2022-02-13T08:14:01.678673Z",
     "shell.execute_reply.started": "2022-02-13T08:14:01.668060Z"
    }
   },
   "outputs": [
    {
     "data": {
      "text/html": [
       "<div>\n",
       "<style scoped>\n",
       "    .dataframe tbody tr th:only-of-type {\n",
       "        vertical-align: middle;\n",
       "    }\n",
       "\n",
       "    .dataframe tbody tr th {\n",
       "        vertical-align: top;\n",
       "    }\n",
       "\n",
       "    .dataframe thead th {\n",
       "        text-align: right;\n",
       "    }\n",
       "</style>\n",
       "<table border=\"1\" class=\"dataframe\">\n",
       "  <thead>\n",
       "    <tr style=\"text-align: right;\">\n",
       "      <th></th>\n",
       "      <th>user_id</th>\n",
       "      <th>category_id</th>\n",
       "      <th>video_id</th>\n",
       "      <th>age</th>\n",
       "      <th>followers</th>\n",
       "      <th>views</th>\n",
       "      <th>engagement_score</th>\n",
       "      <th>Male</th>\n",
       "      <th>Student</th>\n",
       "      <th>Working Professional</th>\n",
       "    </tr>\n",
       "  </thead>\n",
       "  <tbody>\n",
       "    <tr>\n",
       "      <th>0</th>\n",
       "      <td>19990</td>\n",
       "      <td>37</td>\n",
       "      <td>128</td>\n",
       "      <td>24</td>\n",
       "      <td>180</td>\n",
       "      <td>1000</td>\n",
       "      <td>4.33</td>\n",
       "      <td>1</td>\n",
       "      <td>1</td>\n",
       "      <td>0</td>\n",
       "    </tr>\n",
       "    <tr>\n",
       "      <th>1</th>\n",
       "      <td>5304</td>\n",
       "      <td>32</td>\n",
       "      <td>132</td>\n",
       "      <td>14</td>\n",
       "      <td>330</td>\n",
       "      <td>714</td>\n",
       "      <td>1.79</td>\n",
       "      <td>0</td>\n",
       "      <td>1</td>\n",
       "      <td>0</td>\n",
       "    </tr>\n",
       "    <tr>\n",
       "      <th>2</th>\n",
       "      <td>1840</td>\n",
       "      <td>12</td>\n",
       "      <td>24</td>\n",
       "      <td>19</td>\n",
       "      <td>180</td>\n",
       "      <td>138</td>\n",
       "      <td>4.35</td>\n",
       "      <td>1</td>\n",
       "      <td>1</td>\n",
       "      <td>0</td>\n",
       "    </tr>\n",
       "    <tr>\n",
       "      <th>3</th>\n",
       "      <td>12597</td>\n",
       "      <td>23</td>\n",
       "      <td>112</td>\n",
       "      <td>19</td>\n",
       "      <td>220</td>\n",
       "      <td>613</td>\n",
       "      <td>3.77</td>\n",
       "      <td>1</td>\n",
       "      <td>1</td>\n",
       "      <td>0</td>\n",
       "    </tr>\n",
       "    <tr>\n",
       "      <th>4</th>\n",
       "      <td>13626</td>\n",
       "      <td>23</td>\n",
       "      <td>112</td>\n",
       "      <td>27</td>\n",
       "      <td>220</td>\n",
       "      <td>613</td>\n",
       "      <td>3.13</td>\n",
       "      <td>1</td>\n",
       "      <td>0</td>\n",
       "      <td>1</td>\n",
       "    </tr>\n",
       "  </tbody>\n",
       "</table>\n",
       "</div>"
      ],
      "text/plain": [
       "   user_id  category_id  video_id  age  followers  views  engagement_score  \\\n",
       "0    19990           37       128   24        180   1000              4.33   \n",
       "1     5304           32       132   14        330    714              1.79   \n",
       "2     1840           12        24   19        180    138              4.35   \n",
       "3    12597           23       112   19        220    613              3.77   \n",
       "4    13626           23       112   27        220    613              3.13   \n",
       "\n",
       "   Male  Student  Working Professional  \n",
       "0     1        1                     0  \n",
       "1     0        1                     0  \n",
       "2     1        1                     0  \n",
       "3     1        1                     0  \n",
       "4     1        0                     1  "
      ]
     },
     "execution_count": 19,
     "metadata": {},
     "output_type": "execute_result"
    }
   ],
   "source": [
    "train_data.head()    # 1- male ,0 - Female"
   ]
  },
  {
   "cell_type": "code",
   "execution_count": 13,
   "metadata": {
    "execution": {
     "iopub.execute_input": "2022-02-13T08:08:56.913253Z",
     "iopub.status.busy": "2022-02-13T08:08:56.912490Z",
     "iopub.status.idle": "2022-02-13T08:08:56.949319Z",
     "shell.execute_reply": "2022-02-13T08:08:56.948481Z",
     "shell.execute_reply.started": "2022-02-13T08:08:56.913214Z"
    }
   },
   "outputs": [
    {
     "name": "stdout",
     "output_type": "stream",
     "text": [
      "Student                 44638\n",
      "Other                   26840\n",
      "Working Professional    17719\n",
      "Name: profession, dtype: int64\n"
     ]
    }
   ],
   "source": [
    "print(train_data['profession'].value_counts())\n",
    "dummies = pd.get_dummies(train_data['profession'],drop_first=True)\n",
    "train_data = pd.concat([train_data.drop('profession',axis=1),dummies],axis=1)"
   ]
  },
  {
   "cell_type": "code",
   "execution_count": 20,
   "metadata": {
    "execution": {
     "iopub.execute_input": "2022-02-13T08:14:10.443426Z",
     "iopub.status.busy": "2022-02-13T08:14:10.442831Z",
     "iopub.status.idle": "2022-02-13T08:14:10.454765Z",
     "shell.execute_reply": "2022-02-13T08:14:10.454040Z",
     "shell.execute_reply.started": "2022-02-13T08:14:10.443388Z"
    }
   },
   "outputs": [
    {
     "data": {
      "text/html": [
       "<div>\n",
       "<style scoped>\n",
       "    .dataframe tbody tr th:only-of-type {\n",
       "        vertical-align: middle;\n",
       "    }\n",
       "\n",
       "    .dataframe tbody tr th {\n",
       "        vertical-align: top;\n",
       "    }\n",
       "\n",
       "    .dataframe thead th {\n",
       "        text-align: right;\n",
       "    }\n",
       "</style>\n",
       "<table border=\"1\" class=\"dataframe\">\n",
       "  <thead>\n",
       "    <tr style=\"text-align: right;\">\n",
       "      <th></th>\n",
       "      <th>user_id</th>\n",
       "      <th>category_id</th>\n",
       "      <th>video_id</th>\n",
       "      <th>age</th>\n",
       "      <th>followers</th>\n",
       "      <th>views</th>\n",
       "      <th>engagement_score</th>\n",
       "      <th>Male</th>\n",
       "      <th>Student</th>\n",
       "      <th>Working Professional</th>\n",
       "    </tr>\n",
       "  </thead>\n",
       "  <tbody>\n",
       "    <tr>\n",
       "      <th>89192</th>\n",
       "      <td>23996</td>\n",
       "      <td>15</td>\n",
       "      <td>32</td>\n",
       "      <td>25</td>\n",
       "      <td>340</td>\n",
       "      <td>662</td>\n",
       "      <td>3.91</td>\n",
       "      <td>1</td>\n",
       "      <td>0</td>\n",
       "      <td>0</td>\n",
       "    </tr>\n",
       "    <tr>\n",
       "      <th>89193</th>\n",
       "      <td>20466</td>\n",
       "      <td>20</td>\n",
       "      <td>47</td>\n",
       "      <td>31</td>\n",
       "      <td>240</td>\n",
       "      <td>892</td>\n",
       "      <td>3.56</td>\n",
       "      <td>1</td>\n",
       "      <td>0</td>\n",
       "      <td>0</td>\n",
       "    </tr>\n",
       "    <tr>\n",
       "      <th>89194</th>\n",
       "      <td>13655</td>\n",
       "      <td>16</td>\n",
       "      <td>97</td>\n",
       "      <td>25</td>\n",
       "      <td>270</td>\n",
       "      <td>462</td>\n",
       "      <td>4.23</td>\n",
       "      <td>1</td>\n",
       "      <td>1</td>\n",
       "      <td>0</td>\n",
       "    </tr>\n",
       "    <tr>\n",
       "      <th>89195</th>\n",
       "      <td>24840</td>\n",
       "      <td>9</td>\n",
       "      <td>18</td>\n",
       "      <td>35</td>\n",
       "      <td>230</td>\n",
       "      <td>819</td>\n",
       "      <td>3.77</td>\n",
       "      <td>1</td>\n",
       "      <td>0</td>\n",
       "      <td>1</td>\n",
       "    </tr>\n",
       "    <tr>\n",
       "      <th>89196</th>\n",
       "      <td>27183</td>\n",
       "      <td>25</td>\n",
       "      <td>150</td>\n",
       "      <td>13</td>\n",
       "      <td>240</td>\n",
       "      <td>317</td>\n",
       "      <td>4.31</td>\n",
       "      <td>1</td>\n",
       "      <td>1</td>\n",
       "      <td>0</td>\n",
       "    </tr>\n",
       "  </tbody>\n",
       "</table>\n",
       "</div>"
      ],
      "text/plain": [
       "       user_id  category_id  video_id  age  followers  views  \\\n",
       "89192    23996           15        32   25        340    662   \n",
       "89193    20466           20        47   31        240    892   \n",
       "89194    13655           16        97   25        270    462   \n",
       "89195    24840            9        18   35        230    819   \n",
       "89196    27183           25       150   13        240    317   \n",
       "\n",
       "       engagement_score  Male  Student  Working Professional  \n",
       "89192              3.91     1        0                     0  \n",
       "89193              3.56     1        0                     0  \n",
       "89194              4.23     1        1                     0  \n",
       "89195              3.77     1        0                     1  \n",
       "89196              4.31     1        1                     0  "
      ]
     },
     "execution_count": 20,
     "metadata": {},
     "output_type": "execute_result"
    }
   ],
   "source": [
    "train_data.tail()    # 10 -student,01-wp,00-others"
   ]
  },
  {
   "cell_type": "code",
   "execution_count": 21,
   "metadata": {
    "execution": {
     "iopub.execute_input": "2022-02-13T08:15:55.196371Z",
     "iopub.status.busy": "2022-02-13T08:15:55.195745Z",
     "iopub.status.idle": "2022-02-13T08:15:56.037981Z",
     "shell.execute_reply": "2022-02-13T08:15:56.037332Z",
     "shell.execute_reply.started": "2022-02-13T08:15:55.196335Z"
    }
   },
   "outputs": [
    {
     "data": {
      "text/plain": [
       "<AxesSubplot:xlabel='age', ylabel='Count'>"
      ]
     },
     "execution_count": 21,
     "metadata": {},
     "output_type": "execute_result"
    },
    {
     "data": {
      "image/png": "[encoded data removed]",
      "text/plain": [
       "<Figure size 432x288 with 1 Axes>"
      ]
     },
     "metadata": {},
     "output_type": "display_data"
    }
   ],
   "source": [
    "sns.histplot(data = train_data, x = \"age\", kde = True)"
   ]
  },
  {
   "cell_type": "code",
   "execution_count": 22,
   "metadata": {
    "execution": {
     "iopub.execute_input": "2022-02-13T08:16:27.335940Z",
     "iopub.status.busy": "2022-02-13T08:16:27.335404Z",
     "iopub.status.idle": "2022-02-13T08:16:28.035036Z",
     "shell.execute_reply": "2022-02-13T08:16:28.034365Z",
     "shell.execute_reply.started": "2022-02-13T08:16:27.335903Z"
    }
   },
   "outputs": [
    {
     "data": {
      "text/plain": [
       "<AxesSubplot:xlabel='followers', ylabel='Count'>"
      ]
     },
     "execution_count": 22,
     "metadata": {},
     "output_type": "execute_result"
    },
    {
     "data": {
      "image/png": "[encoded data removed]",
      "text/plain": [
       "<Figure size 432x288 with 1 Axes>"
      ]
     },
     "metadata": {},
     "output_type": "display_data"
    }
   ],
   "source": [
    "sns.histplot(data = train_data, x = \"followers\", kde = True)"
   ]
  },
  {
   "cell_type": "code",
   "execution_count": 23,
   "metadata": {
    "execution": {
     "iopub.execute_input": "2022-02-13T08:17:13.988956Z",
     "iopub.status.busy": "2022-02-13T08:17:13.988376Z",
     "iopub.status.idle": "2022-02-13T08:17:14.583999Z",
     "shell.execute_reply": "2022-02-13T08:17:14.583307Z",
     "shell.execute_reply.started": "2022-02-13T08:17:13.988916Z"
    }
   },
   "outputs": [
    {
     "data": {
      "text/plain": [
       "<AxesSubplot:xlabel='views', ylabel='Count'>"
      ]
     },
     "execution_count": 23,
     "metadata": {},
     "output_type": "execute_result"
    },
    {
     "data": {
      "image/png": "[encoded data removed]",
      "text/plain": [
       "<Figure size 432x288 with 1 Axes>"
      ]
     },
     "metadata": {},
     "output_type": "display_data"
    }
   ],
   "source": [
    "sns.histplot(data = train_data, x = \"views\", kde = True)"
   ]
  },
  {
   "cell_type": "markdown",
   "metadata": {},
   "source": [
    "## Dropping unnecessary coloumns"
   ]
  },
  {
   "cell_type": "code",
   "execution_count": 14,
   "metadata": {
    "execution": {
     "iopub.execute_input": "2022-02-13T08:09:02.291088Z",
     "iopub.status.busy": "2022-02-13T08:09:02.290419Z",
     "iopub.status.idle": "2022-02-13T08:09:02.302417Z",
     "shell.execute_reply": "2022-02-13T08:09:02.301592Z",
     "shell.execute_reply.started": "2022-02-13T08:09:02.291050Z"
    }
   },
   "outputs": [
    {
     "data": {
      "text/plain": [
       "((89197, 10), (11121, 9))"
      ]
     },
     "execution_count": 14,
     "metadata": {},
     "output_type": "execute_result"
    }
   ],
   "source": [
    "train_data.drop(['row_id'], axis=1, inplace=True)\n",
    "#test.drop(['row_id','user_id'], axis=1, inplace=True)\n",
    "train_data.shape, test.shape"
   ]
  },
  {
   "cell_type": "code",
   "execution_count": 24,
   "metadata": {
    "execution": {
     "iopub.execute_input": "2022-02-13T08:17:25.013645Z",
     "iopub.status.busy": "2022-02-13T08:17:25.013038Z",
     "iopub.status.idle": "2022-02-13T08:17:25.027196Z",
     "shell.execute_reply": "2022-02-13T08:17:25.026419Z",
     "shell.execute_reply.started": "2022-02-13T08:17:25.013611Z"
    }
   },
   "outputs": [
    {
     "data": {
      "text/html": [
       "<div>\n",
       "<style scoped>\n",
       "    .dataframe tbody tr th:only-of-type {\n",
       "        vertical-align: middle;\n",
       "    }\n",
       "\n",
       "    .dataframe tbody tr th {\n",
       "        vertical-align: top;\n",
       "    }\n",
       "\n",
       "    .dataframe thead th {\n",
       "        text-align: right;\n",
       "    }\n",
       "</style>\n",
       "<table border=\"1\" class=\"dataframe\">\n",
       "  <thead>\n",
       "    <tr style=\"text-align: right;\">\n",
       "      <th></th>\n",
       "      <th>user_id</th>\n",
       "      <th>category_id</th>\n",
       "      <th>video_id</th>\n",
       "      <th>age</th>\n",
       "      <th>followers</th>\n",
       "      <th>views</th>\n",
       "      <th>engagement_score</th>\n",
       "      <th>Male</th>\n",
       "      <th>Student</th>\n",
       "      <th>Working Professional</th>\n",
       "    </tr>\n",
       "  </thead>\n",
       "  <tbody>\n",
       "    <tr>\n",
       "      <th>89192</th>\n",
       "      <td>23996</td>\n",
       "      <td>15</td>\n",
       "      <td>32</td>\n",
       "      <td>25</td>\n",
       "      <td>340</td>\n",
       "      <td>662</td>\n",
       "      <td>3.91</td>\n",
       "      <td>1</td>\n",
       "      <td>0</td>\n",
       "      <td>0</td>\n",
       "    </tr>\n",
       "    <tr>\n",
       "      <th>89193</th>\n",
       "      <td>20466</td>\n",
       "      <td>20</td>\n",
       "      <td>47</td>\n",
       "      <td>31</td>\n",
       "      <td>240</td>\n",
       "      <td>892</td>\n",
       "      <td>3.56</td>\n",
       "      <td>1</td>\n",
       "      <td>0</td>\n",
       "      <td>0</td>\n",
       "    </tr>\n",
       "    <tr>\n",
       "      <th>89194</th>\n",
       "      <td>13655</td>\n",
       "      <td>16</td>\n",
       "      <td>97</td>\n",
       "      <td>25</td>\n",
       "      <td>270</td>\n",
       "      <td>462</td>\n",
       "      <td>4.23</td>\n",
       "      <td>1</td>\n",
       "      <td>1</td>\n",
       "      <td>0</td>\n",
       "    </tr>\n",
       "    <tr>\n",
       "      <th>89195</th>\n",
       "      <td>24840</td>\n",
       "      <td>9</td>\n",
       "      <td>18</td>\n",
       "      <td>35</td>\n",
       "      <td>230</td>\n",
       "      <td>819</td>\n",
       "      <td>3.77</td>\n",
       "      <td>1</td>\n",
       "      <td>0</td>\n",
       "      <td>1</td>\n",
       "    </tr>\n",
       "    <tr>\n",
       "      <th>89196</th>\n",
       "      <td>27183</td>\n",
       "      <td>25</td>\n",
       "      <td>150</td>\n",
       "      <td>13</td>\n",
       "      <td>240</td>\n",
       "      <td>317</td>\n",
       "      <td>4.31</td>\n",
       "      <td>1</td>\n",
       "      <td>1</td>\n",
       "      <td>0</td>\n",
       "    </tr>\n",
       "  </tbody>\n",
       "</table>\n",
       "</div>"
      ],
      "text/plain": [
       "       user_id  category_id  video_id  age  followers  views  \\\n",
       "89192    23996           15        32   25        340    662   \n",
       "89193    20466           20        47   31        240    892   \n",
       "89194    13655           16        97   25        270    462   \n",
       "89195    24840            9        18   35        230    819   \n",
       "89196    27183           25       150   13        240    317   \n",
       "\n",
       "       engagement_score  Male  Student  Working Professional  \n",
       "89192              3.91     1        0                     0  \n",
       "89193              3.56     1        0                     0  \n",
       "89194              4.23     1        1                     0  \n",
       "89195              3.77     1        0                     1  \n",
       "89196              4.31     1        1                     0  "
      ]
     },
     "execution_count": 24,
     "metadata": {},
     "output_type": "execute_result"
    }
   ],
   "source": [
    "train_data.tail()    "
   ]
  },
  {
   "cell_type": "code",
   "execution_count": 25,
   "metadata": {
    "execution": {
     "iopub.execute_input": "2022-02-13T08:17:29.780470Z",
     "iopub.status.busy": "2022-02-13T08:17:29.780173Z",
     "iopub.status.idle": "2022-02-13T08:17:29.797780Z",
     "shell.execute_reply": "2022-02-13T08:17:29.796320Z",
     "shell.execute_reply.started": "2022-02-13T08:17:29.780435Z"
    }
   },
   "outputs": [
    {
     "data": {
      "text/html": [
       "<div>\n",
       "<style scoped>\n",
       "    .dataframe tbody tr th:only-of-type {\n",
       "        vertical-align: middle;\n",
       "    }\n",
       "\n",
       "    .dataframe tbody tr th {\n",
       "        vertical-align: top;\n",
       "    }\n",
       "\n",
       "    .dataframe thead th {\n",
       "        text-align: right;\n",
       "    }\n",
       "</style>\n",
       "<table border=\"1\" class=\"dataframe\">\n",
       "  <thead>\n",
       "    <tr style=\"text-align: right;\">\n",
       "      <th></th>\n",
       "      <th>row_id</th>\n",
       "      <th>user_id</th>\n",
       "      <th>category_id</th>\n",
       "      <th>video_id</th>\n",
       "      <th>age</th>\n",
       "      <th>gender</th>\n",
       "      <th>profession</th>\n",
       "      <th>followers</th>\n",
       "      <th>views</th>\n",
       "    </tr>\n",
       "  </thead>\n",
       "  <tbody>\n",
       "    <tr>\n",
       "      <th>11116</th>\n",
       "      <td>100314</td>\n",
       "      <td>26336</td>\n",
       "      <td>25</td>\n",
       "      <td>140</td>\n",
       "      <td>21</td>\n",
       "      <td>Male</td>\n",
       "      <td>Student</td>\n",
       "      <td>240</td>\n",
       "      <td>317</td>\n",
       "    </tr>\n",
       "    <tr>\n",
       "      <th>11117</th>\n",
       "      <td>100315</td>\n",
       "      <td>6772</td>\n",
       "      <td>8</td>\n",
       "      <td>100</td>\n",
       "      <td>19</td>\n",
       "      <td>Female</td>\n",
       "      <td>Student</td>\n",
       "      <td>280</td>\n",
       "      <td>628</td>\n",
       "    </tr>\n",
       "    <tr>\n",
       "      <th>11118</th>\n",
       "      <td>100316</td>\n",
       "      <td>2042</td>\n",
       "      <td>16</td>\n",
       "      <td>98</td>\n",
       "      <td>22</td>\n",
       "      <td>Male</td>\n",
       "      <td>Student</td>\n",
       "      <td>270</td>\n",
       "      <td>462</td>\n",
       "    </tr>\n",
       "    <tr>\n",
       "      <th>11119</th>\n",
       "      <td>100317</td>\n",
       "      <td>24626</td>\n",
       "      <td>8</td>\n",
       "      <td>16</td>\n",
       "      <td>33</td>\n",
       "      <td>Male</td>\n",
       "      <td>Other</td>\n",
       "      <td>280</td>\n",
       "      <td>628</td>\n",
       "    </tr>\n",
       "    <tr>\n",
       "      <th>11120</th>\n",
       "      <td>100318</td>\n",
       "      <td>967</td>\n",
       "      <td>8</td>\n",
       "      <td>74</td>\n",
       "      <td>33</td>\n",
       "      <td>Male</td>\n",
       "      <td>Working Professional</td>\n",
       "      <td>280</td>\n",
       "      <td>628</td>\n",
       "    </tr>\n",
       "  </tbody>\n",
       "</table>\n",
       "</div>"
      ],
      "text/plain": [
       "       row_id  user_id  category_id  video_id  age  gender  \\\n",
       "11116  100314    26336           25       140   21    Male   \n",
       "11117  100315     6772            8       100   19  Female   \n",
       "11118  100316     2042           16        98   22    Male   \n",
       "11119  100317    24626            8        16   33    Male   \n",
       "11120  100318      967            8        74   33    Male   \n",
       "\n",
       "                 profession  followers  views  \n",
       "11116               Student        240    317  \n",
       "11117               Student        280    628  \n",
       "11118               Student        270    462  \n",
       "11119                 Other        280    628  \n",
       "11120  Working Professional        280    628  "
      ]
     },
     "execution_count": 25,
     "metadata": {},
     "output_type": "execute_result"
    }
   ],
   "source": [
    "test.tail()  "
   ]
  },
  {
   "cell_type": "markdown",
   "metadata": {},
   "source": [
    "## Correlations"
   ]
  },
  {
   "cell_type": "code",
   "execution_count": 15,
   "metadata": {
    "execution": {
     "iopub.execute_input": "2022-02-13T08:09:09.503445Z",
     "iopub.status.busy": "2022-02-13T08:09:09.503189Z",
     "iopub.status.idle": "2022-02-13T08:09:10.191044Z",
     "shell.execute_reply": "2022-02-13T08:09:10.190345Z",
     "shell.execute_reply.started": "2022-02-13T08:09:09.503416Z"
    }
   },
   "outputs": [
    {
     "data": {
      "image/png": "[encoded data removed]",
      "text/plain": [
       "<Figure size 1080x864 with 2 Axes>"
      ]
     },
     "metadata": {},
     "output_type": "display_data"
    }
   ],
   "source": [
    "corr = train_data.corr()\n",
    "plt.subplots(figsize=(15,12))\n",
    "dataplot = sns.heatmap(corr, cmap=\"YlGnBu\", annot=True) \n",
    "# displaying heatmap\n",
    "plt.show()"
   ]
  },
  {
   "cell_type": "markdown",
   "metadata": {},
   "source": [
    "# Training a model"
   ]
  },
  {
   "cell_type": "code",
   "execution_count": 26,
   "metadata": {
    "execution": {
     "iopub.execute_input": "2022-02-13T08:17:38.858633Z",
     "iopub.status.busy": "2022-02-13T08:17:38.857982Z",
     "iopub.status.idle": "2022-02-13T08:17:38.865083Z",
     "shell.execute_reply": "2022-02-13T08:17:38.864186Z",
     "shell.execute_reply.started": "2022-02-13T08:17:38.858597Z"
    }
   },
   "outputs": [],
   "source": [
    "X=train_data.drop(['engagement_score'], axis=1)\n",
    "y=train_data['engagement_score']"
   ]
  },
  {
   "cell_type": "code",
   "execution_count": 27,
   "metadata": {
    "execution": {
     "iopub.execute_input": "2022-02-13T08:17:41.677179Z",
     "iopub.status.busy": "2022-02-13T08:17:41.676907Z",
     "iopub.status.idle": "2022-02-13T08:17:41.687580Z",
     "shell.execute_reply": "2022-02-13T08:17:41.686846Z",
     "shell.execute_reply.started": "2022-02-13T08:17:41.677151Z"
    }
   },
   "outputs": [
    {
     "data": {
      "text/html": [
       "<div>\n",
       "<style scoped>\n",
       "    .dataframe tbody tr th:only-of-type {\n",
       "        vertical-align: middle;\n",
       "    }\n",
       "\n",
       "    .dataframe tbody tr th {\n",
       "        vertical-align: top;\n",
       "    }\n",
       "\n",
       "    .dataframe thead th {\n",
       "        text-align: right;\n",
       "    }\n",
       "</style>\n",
       "<table border=\"1\" class=\"dataframe\">\n",
       "  <thead>\n",
       "    <tr style=\"text-align: right;\">\n",
       "      <th></th>\n",
       "      <th>user_id</th>\n",
       "      <th>category_id</th>\n",
       "      <th>video_id</th>\n",
       "      <th>age</th>\n",
       "      <th>followers</th>\n",
       "      <th>views</th>\n",
       "      <th>Male</th>\n",
       "      <th>Student</th>\n",
       "      <th>Working Professional</th>\n",
       "    </tr>\n",
       "  </thead>\n",
       "  <tbody>\n",
       "    <tr>\n",
       "      <th>0</th>\n",
       "      <td>19990</td>\n",
       "      <td>37</td>\n",
       "      <td>128</td>\n",
       "      <td>24</td>\n",
       "      <td>180</td>\n",
       "      <td>1000</td>\n",
       "      <td>1</td>\n",
       "      <td>1</td>\n",
       "      <td>0</td>\n",
       "    </tr>\n",
       "    <tr>\n",
       "      <th>1</th>\n",
       "      <td>5304</td>\n",
       "      <td>32</td>\n",
       "      <td>132</td>\n",
       "      <td>14</td>\n",
       "      <td>330</td>\n",
       "      <td>714</td>\n",
       "      <td>0</td>\n",
       "      <td>1</td>\n",
       "      <td>0</td>\n",
       "    </tr>\n",
       "    <tr>\n",
       "      <th>2</th>\n",
       "      <td>1840</td>\n",
       "      <td>12</td>\n",
       "      <td>24</td>\n",
       "      <td>19</td>\n",
       "      <td>180</td>\n",
       "      <td>138</td>\n",
       "      <td>1</td>\n",
       "      <td>1</td>\n",
       "      <td>0</td>\n",
       "    </tr>\n",
       "    <tr>\n",
       "      <th>3</th>\n",
       "      <td>12597</td>\n",
       "      <td>23</td>\n",
       "      <td>112</td>\n",
       "      <td>19</td>\n",
       "      <td>220</td>\n",
       "      <td>613</td>\n",
       "      <td>1</td>\n",
       "      <td>1</td>\n",
       "      <td>0</td>\n",
       "    </tr>\n",
       "    <tr>\n",
       "      <th>4</th>\n",
       "      <td>13626</td>\n",
       "      <td>23</td>\n",
       "      <td>112</td>\n",
       "      <td>27</td>\n",
       "      <td>220</td>\n",
       "      <td>613</td>\n",
       "      <td>1</td>\n",
       "      <td>0</td>\n",
       "      <td>1</td>\n",
       "    </tr>\n",
       "  </tbody>\n",
       "</table>\n",
       "</div>"
      ],
      "text/plain": [
       "   user_id  category_id  video_id  age  followers  views  Male  Student  \\\n",
       "0    19990           37       128   24        180   1000     1        1   \n",
       "1     5304           32       132   14        330    714     0        1   \n",
       "2     1840           12        24   19        180    138     1        1   \n",
       "3    12597           23       112   19        220    613     1        1   \n",
       "4    13626           23       112   27        220    613     1        0   \n",
       "\n",
       "   Working Professional  \n",
       "0                     0  \n",
       "1                     0  \n",
       "2                     0  \n",
       "3                     0  \n",
       "4                     1  "
      ]
     },
     "execution_count": 27,
     "metadata": {},
     "output_type": "execute_result"
    }
   ],
   "source": [
    "X.head()"
   ]
  },
  {
   "cell_type": "code",
   "execution_count": 28,
   "metadata": {
    "execution": {
     "iopub.execute_input": "2022-02-13T08:17:43.861918Z",
     "iopub.status.busy": "2022-02-13T08:17:43.861284Z",
     "iopub.status.idle": "2022-02-13T08:17:43.870260Z",
     "shell.execute_reply": "2022-02-13T08:17:43.869431Z",
     "shell.execute_reply.started": "2022-02-13T08:17:43.861877Z"
    }
   },
   "outputs": [
    {
     "data": {
      "text/plain": [
       "0    4.33\n",
       "1    1.79\n",
       "2    4.35\n",
       "3    3.77\n",
       "4    3.13\n",
       "Name: engagement_score, dtype: float64"
      ]
     },
     "execution_count": 28,
     "metadata": {},
     "output_type": "execute_result"
    }
   ],
   "source": [
    "y.head()"
   ]
  },
  {
   "cell_type": "code",
   "execution_count": 29,
   "metadata": {
    "execution": {
     "iopub.execute_input": "2022-02-13T08:17:59.689017Z",
     "iopub.status.busy": "2022-02-13T08:17:59.688471Z",
     "iopub.status.idle": "2022-02-13T08:17:59.710116Z",
     "shell.execute_reply": "2022-02-13T08:17:59.709447Z",
     "shell.execute_reply.started": "2022-02-13T08:17:59.688980Z"
    }
   },
   "outputs": [],
   "source": [
    "from sklearn.model_selection import train_test_split\n",
    "X_train, X_test, y_train, y_test = train_test_split(X, y, test_size = 0.2, random_state = 42)"
   ]
  },
  {
   "cell_type": "code",
   "execution_count": 30,
   "metadata": {
    "execution": {
     "iopub.execute_input": "2022-02-13T08:18:02.468445Z",
     "iopub.status.busy": "2022-02-13T08:18:02.468194Z",
     "iopub.status.idle": "2022-02-13T08:18:02.474762Z",
     "shell.execute_reply": "2022-02-13T08:18:02.474020Z",
     "shell.execute_reply.started": "2022-02-13T08:18:02.468416Z"
    }
   },
   "outputs": [
    {
     "name": "stdout",
     "output_type": "stream",
     "text": [
      "The size of training input is (71357, 9)\n",
      "The size of training output is (71357,)\n",
      "**************************************************\n",
      "The size of testing input is (17840, 9)\n",
      "The size of testing output is (17840,)\n"
     ]
    }
   ],
   "source": [
    "print(\"The size of training input is\", X_train.shape)\n",
    "print(\"The size of training output is\", y_train.shape)\n",
    "print(50 *'*')\n",
    "print(\"The size of testing input is\", X_test.shape)\n",
    "print(\"The size of testing output is\", y_test.shape)"
   ]
  },
  {
   "cell_type": "markdown",
   "metadata": {},
   "source": [
    "# Ridge Regressor"
   ]
  },
  {
   "cell_type": "code",
   "execution_count": 31,
   "metadata": {
    "execution": {
     "iopub.execute_input": "2022-02-13T08:18:05.391041Z",
     "iopub.status.busy": "2022-02-13T08:18:05.390457Z",
     "iopub.status.idle": "2022-02-13T08:18:08.481899Z",
     "shell.execute_reply": "2022-02-13T08:18:08.480817Z",
     "shell.execute_reply.started": "2022-02-13T08:18:05.391006Z"
    }
   },
   "outputs": [
    {
     "data": {
      "text/plain": [
       "GridSearchCV(cv=5, estimator=Ridge(), n_jobs=-1,\n",
       "             param_grid={'alpha': [0.0001, 0.001, 0.01, 0.1, 1, 10, 100, 1000,\n",
       "                                   10000, 100000]},\n",
       "             scoring='neg_mean_absolute_error')"
      ]
     },
     "execution_count": 31,
     "metadata": {},
     "output_type": "execute_result"
    }
   ],
   "source": [
    "params ={'alpha' :[0.0001, 0.001, 0.01, 0.1, 1, 10, 100, 1000, 10000, 100000]}\n",
    "ridge_regressor =GridSearchCV(Ridge(), params ,cv =5,scoring = 'neg_mean_absolute_error', n_jobs =-1)\n",
    "ridge_regressor.fit(X_train ,y_train)"
   ]
  },
  {
   "cell_type": "code",
   "execution_count": 32,
   "metadata": {
    "execution": {
     "iopub.execute_input": "2022-02-13T08:18:14.466192Z",
     "iopub.status.busy": "2022-02-13T08:18:14.465495Z",
     "iopub.status.idle": "2022-02-13T08:18:14.480092Z",
     "shell.execute_reply": "2022-02-13T08:18:14.479230Z",
     "shell.execute_reply.started": "2022-02-13T08:18:14.466156Z"
    }
   },
   "outputs": [],
   "source": [
    "y_train_pred =ridge_regressor.predict(X_train) ##Predict train result\n",
    "y_test_pred =ridge_regressor.predict(X_test) ##Predict test result"
   ]
  },
  {
   "cell_type": "code",
   "execution_count": 33,
   "metadata": {
    "execution": {
     "iopub.execute_input": "2022-02-13T08:18:16.732106Z",
     "iopub.status.busy": "2022-02-13T08:18:16.731475Z",
     "iopub.status.idle": "2022-02-13T08:18:16.745173Z",
     "shell.execute_reply": "2022-02-13T08:18:16.744524Z",
     "shell.execute_reply.started": "2022-02-13T08:18:16.732063Z"
    }
   },
   "outputs": [
    {
     "name": "stdout",
     "output_type": "stream",
     "text": [
      "Train Results for Ridge Regressor Model:\n",
      "--------------------------------------------------\n",
      "Root mean squared error:  0.7360760525443968\n",
      "Mean absolute error:  0.5680515208205575\n",
      "R-squared:  0.27092743621194526\n"
     ]
    }
   ],
   "source": [
    "print(\"Train Results for Ridge Regressor Model:\")\n",
    "print(50 * '-')\n",
    "print(\"Root mean squared error: \", sqrt(mse(y_train.values, y_train_pred)))\n",
    "print(\"Mean absolute error: \",mae(y_train.values, y_train_pred))\n",
    "print(\"R-squared: \", r2_score(y_train.values, y_train_pred))"
   ]
  },
  {
   "cell_type": "code",
   "execution_count": 34,
   "metadata": {
    "execution": {
     "iopub.execute_input": "2022-02-13T08:18:22.102083Z",
     "iopub.status.busy": "2022-02-13T08:18:22.101559Z",
     "iopub.status.idle": "2022-02-13T08:18:22.111927Z",
     "shell.execute_reply": "2022-02-13T08:18:22.111110Z",
     "shell.execute_reply.started": "2022-02-13T08:18:22.102047Z"
    }
   },
   "outputs": [
    {
     "name": "stdout",
     "output_type": "stream",
     "text": [
      "Test Results for Ridge Regressor Model:\n",
      "--------------------------------------------------\n",
      "Root mean squared error:  0.7386171417905056\n",
      "Mean absolute error:  0.5687148260816715\n",
      "R-squared:  0.2778788616815382\n"
     ]
    }
   ],
   "source": [
    "print(\"Test Results for Ridge Regressor Model:\")\n",
    "print(50 * '-')\n",
    "print(\"Root mean squared error: \", sqrt(mse(y_test, y_test_pred)))\n",
    "print(\"Mean absolute error: \",mae(y_test, y_test_pred))\n",
    "print(\"R-squared: \", r2_score(y_test, y_test_pred))"
   ]
  },
  {
   "cell_type": "markdown",
   "metadata": {},
   "source": [
    "# Lasso Regressor"
   ]
  },
  {
   "cell_type": "code",
   "execution_count": 35,
   "metadata": {
    "execution": {
     "iopub.execute_input": "2022-02-13T08:18:33.731162Z",
     "iopub.status.busy": "2022-02-13T08:18:33.730902Z",
     "iopub.status.idle": "2022-02-13T08:18:37.532802Z",
     "shell.execute_reply": "2022-02-13T08:18:37.532101Z",
     "shell.execute_reply.started": "2022-02-13T08:18:33.731132Z"
    }
   },
   "outputs": [
    {
     "data": {
      "text/plain": [
       "GridSearchCV(cv=15, estimator=Lasso(), n_jobs=-1,\n",
       "             param_grid={'alpha': [0.0001, 0.001, 0.01, 0.1, 1, 10, 100, 1000,\n",
       "                                   10000, 100000]},\n",
       "             scoring='neg_mean_absolute_error')"
      ]
     },
     "execution_count": 35,
     "metadata": {},
     "output_type": "execute_result"
    }
   ],
   "source": [
    "params ={'alpha' :[0.0001, 0.001, 0.01, 0.1, 1, 10, 100, 1000, 10000, 100000]}\n",
    "lasso_regressor =GridSearchCV(Lasso(), params ,cv =15,scoring = 'neg_mean_absolute_error', n_jobs =-1)\n",
    "lasso_regressor.fit(X_train ,y_train)"
   ]
  },
  {
   "cell_type": "code",
   "execution_count": 36,
   "metadata": {
    "execution": {
     "iopub.execute_input": "2022-02-13T08:18:37.534853Z",
     "iopub.status.busy": "2022-02-13T08:18:37.534187Z",
     "iopub.status.idle": "2022-02-13T08:18:37.556421Z",
     "shell.execute_reply": "2022-02-13T08:18:37.555755Z",
     "shell.execute_reply.started": "2022-02-13T08:18:37.534815Z"
    }
   },
   "outputs": [],
   "source": [
    "y_train_pred =lasso_regressor.predict(X_train) ##Predict train result\n",
    "y_test_pred =lasso_regressor.predict(X_test) ##Predict test result"
   ]
  },
  {
   "cell_type": "code",
   "execution_count": 37,
   "metadata": {
    "execution": {
     "iopub.execute_input": "2022-02-13T08:18:37.666083Z",
     "iopub.status.busy": "2022-02-13T08:18:37.665730Z",
     "iopub.status.idle": "2022-02-13T08:18:37.678913Z",
     "shell.execute_reply": "2022-02-13T08:18:37.677804Z",
     "shell.execute_reply.started": "2022-02-13T08:18:37.666044Z"
    }
   },
   "outputs": [
    {
     "name": "stdout",
     "output_type": "stream",
     "text": [
      "Train Results for lasso Regressor Model:\n",
      "--------------------------------------------------\n",
      "Root mean squared error:  0.7360761844026186\n",
      "Mean absolute error:  0.5680696484979897\n",
      "R-squared:  0.2709271750046416\n"
     ]
    }
   ],
   "source": [
    "print(\"Train Results for lasso Regressor Model:\")\n",
    "print(50 * '-')\n",
    "print(\"Root mean squared error: \", sqrt(mse(y_train.values, y_train_pred)))\n",
    "print(\"Mean absolute error: \",mae(y_train.values, y_train_pred))\n",
    "print(\"R-squared: \", r2_score(y_train.values, y_train_pred))"
   ]
  },
  {
   "cell_type": "code",
   "execution_count": 38,
   "metadata": {
    "execution": {
     "iopub.execute_input": "2022-02-13T08:18:41.494417Z",
     "iopub.status.busy": "2022-02-13T08:18:41.494163Z",
     "iopub.status.idle": "2022-02-13T08:18:41.504293Z",
     "shell.execute_reply": "2022-02-13T08:18:41.503414Z",
     "shell.execute_reply.started": "2022-02-13T08:18:41.494389Z"
    }
   },
   "outputs": [
    {
     "name": "stdout",
     "output_type": "stream",
     "text": [
      "Test Results for lasso Regressor Model:\n",
      "--------------------------------------------------\n",
      "Root mean squared error:  0.7386187907991228\n",
      "Mean absolute error:  0.5687363668822549\n",
      "R-squared:  0.27787563731740805\n"
     ]
    }
   ],
   "source": [
    "print(\"Test Results for lasso Regressor Model:\")\n",
    "print(50 * '-')\n",
    "print(\"Root mean squared error: \", sqrt(mse(y_test, y_test_pred)))\n",
    "print(\"Mean absolute error: \",mae(y_test, y_test_pred))\n",
    "print(\"R-squared: \", r2_score(y_test, y_test_pred))"
   ]
  },
  {
   "cell_type": "markdown",
   "metadata": {},
   "source": [
    "# K Neighbors Regressor"
   ]
  },
  {
   "cell_type": "code",
   "execution_count": 39,
   "metadata": {
    "execution": {
     "iopub.execute_input": "2022-02-13T08:18:47.030367Z",
     "iopub.status.busy": "2022-02-13T08:18:47.030121Z",
     "iopub.status.idle": "2022-02-13T08:19:43.747286Z",
     "shell.execute_reply": "2022-02-13T08:19:43.746452Z",
     "shell.execute_reply.started": "2022-02-13T08:18:47.030341Z"
    }
   },
   "outputs": [
    {
     "data": {
      "text/plain": [
       "GridSearchCV(cv=10, estimator=KNeighborsRegressor(),\n",
       "             param_grid={'n_neighbors': [1, 2, 3, 4, 5, 6, 7, 8, 9, 10, 11, 12,\n",
       "                                         13, 14, 15, 16, 17, 18, 19, 20, 21, 22,\n",
       "                                         23, 24, 25, 26, 27, 28, 29]},\n",
       "             scoring='neg_mean_squared_error')"
      ]
     },
     "execution_count": 39,
     "metadata": {},
     "output_type": "execute_result"
    }
   ],
   "source": [
    "k_range = list(range(1, 30))\n",
    "params = dict(n_neighbors = k_range)\n",
    "knn_regressor = GridSearchCV(KNeighborsRegressor(), params, cv =10, scoring = 'neg_mean_squared_error')\n",
    "knn_regressor.fit(X_train, y_train)"
   ]
  },
  {
   "cell_type": "code",
   "execution_count": 40,
   "metadata": {
    "execution": {
     "iopub.execute_input": "2022-02-13T08:19:43.749381Z",
     "iopub.status.busy": "2022-02-13T08:19:43.749059Z",
     "iopub.status.idle": "2022-02-13T08:19:45.020197Z",
     "shell.execute_reply": "2022-02-13T08:19:45.019452Z",
     "shell.execute_reply.started": "2022-02-13T08:19:43.749345Z"
    }
   },
   "outputs": [],
   "source": [
    "y_train_pred =knn_regressor.predict(X_train) ##Predict train result\n",
    "y_test_pred =knn_regressor.predict(X_test) ##Predict test result"
   ]
  },
  {
   "cell_type": "code",
   "execution_count": 42,
   "metadata": {
    "execution": {
     "iopub.execute_input": "2022-02-13T08:19:45.036044Z",
     "iopub.status.busy": "2022-02-13T08:19:45.035593Z",
     "iopub.status.idle": "2022-02-13T08:19:45.047901Z",
     "shell.execute_reply": "2022-02-13T08:19:45.047205Z",
     "shell.execute_reply.started": "2022-02-13T08:19:45.036009Z"
    }
   },
   "outputs": [
    {
     "name": "stdout",
     "output_type": "stream",
     "text": [
      "Train Results for knn Regressor Model:\n",
      "--------------------------------------------------\n",
      "Root mean squared error:  0.8227296200178328\n",
      "Mean absolute error:  0.6558255503048538\n",
      "R-squared:  0.08916513912834867\n"
     ]
    }
   ],
   "source": [
    "print(\"Train Results for knn Regressor Model:\")\n",
    "print(50 * '-')\n",
    "print(\"Root mean squared error: \", sqrt(mse(y_train.values, y_train_pred)))\n",
    "print(\"Mean absolute error: \",mae(y_train.values, y_train_pred))\n",
    "print(\"R-squared: \", r2_score(y_train.values, y_train_pred))"
   ]
  },
  {
   "cell_type": "code",
   "execution_count": 43,
   "metadata": {
    "execution": {
     "iopub.execute_input": "2022-02-13T08:19:45.049605Z",
     "iopub.status.busy": "2022-02-13T08:19:45.049199Z",
     "iopub.status.idle": "2022-02-13T08:19:45.060969Z",
     "shell.execute_reply": "2022-02-13T08:19:45.059306Z",
     "shell.execute_reply.started": "2022-02-13T08:19:45.049568Z"
    }
   },
   "outputs": [
    {
     "name": "stdout",
     "output_type": "stream",
     "text": [
      "Test Results for knn Regressor Model:\n",
      "--------------------------------------------------\n",
      "Root mean squared error:  0.8553706077899511\n",
      "Mean absolute error:  0.6823642338023814\n",
      "R-squared:  0.0315438999996932\n"
     ]
    }
   ],
   "source": [
    "print(\"Test Results for knn Regressor Model:\")\n",
    "print(50 * '-')\n",
    "print(\"Root mean squared error: \", sqrt(mse(y_test, y_test_pred)))\n",
    "print(\"Mean absolute error: \",mae(y_test, y_test_pred))\n",
    "print(\"R-squared: \", r2_score(y_test, y_test_pred))"
   ]
  },
  {
   "cell_type": "markdown",
   "metadata": {},
   "source": [
    "# Decision Tree Regressor"
   ]
  },
  {
   "cell_type": "code",
   "execution_count": 44,
   "metadata": {
    "execution": {
     "iopub.execute_input": "2022-02-13T08:19:45.062793Z",
     "iopub.status.busy": "2022-02-13T08:19:45.062131Z",
     "iopub.status.idle": "2022-02-13T08:20:42.402876Z",
     "shell.execute_reply": "2022-02-13T08:20:42.402213Z",
     "shell.execute_reply.started": "2022-02-13T08:19:45.062745Z"
    }
   },
   "outputs": [
    {
     "data": {
      "text/plain": [
       "GridSearchCV(cv=10, estimator=DecisionTreeRegressor(),\n",
       "             param_grid={'max_depth': [3, 4, 5, 6, 7, 8, 9, 10, 11, 12, 13, 14,\n",
       "                                       15, 16, 17, 18, 19, 20, 21, 22, 23, 24,\n",
       "                                       25, 26, 27, 28, 29]})"
      ]
     },
     "execution_count": 44,
     "metadata": {},
     "output_type": "execute_result"
    }
   ],
   "source": [
    "depth  =list(range(3,30))\n",
    "param_grid =dict(max_depth =depth)\n",
    "tree =GridSearchCV(DecisionTreeRegressor(),param_grid,cv =10)\n",
    "tree.fit(X_train,y_train)"
   ]
  },
  {
   "cell_type": "code",
   "execution_count": 45,
   "metadata": {
    "execution": {
     "iopub.execute_input": "2022-02-13T08:20:42.404496Z",
     "iopub.status.busy": "2022-02-13T08:20:42.404253Z",
     "iopub.status.idle": "2022-02-13T08:20:42.420967Z",
     "shell.execute_reply": "2022-02-13T08:20:42.420332Z",
     "shell.execute_reply.started": "2022-02-13T08:20:42.404462Z"
    }
   },
   "outputs": [],
   "source": [
    "y_train_pred =tree.predict(X_train) ##Predict train result\n",
    "y_test_pred =tree.predict(X_test) ##Predict test result"
   ]
  },
  {
   "cell_type": "code",
   "execution_count": 46,
   "metadata": {
    "execution": {
     "iopub.execute_input": "2022-02-13T08:20:42.422560Z",
     "iopub.status.busy": "2022-02-13T08:20:42.422297Z",
     "iopub.status.idle": "2022-02-13T08:20:42.432905Z",
     "shell.execute_reply": "2022-02-13T08:20:42.432226Z",
     "shell.execute_reply.started": "2022-02-13T08:20:42.422514Z"
    }
   },
   "outputs": [
    {
     "name": "stdout",
     "output_type": "stream",
     "text": [
      "Train Results for Decision Tree Regressor Model:\n",
      "--------------------------------------------------\n",
      "Root mean squared error:  0.6872357759917682\n",
      "Mean absolute error:  0.5179687217555204\n",
      "R-squared:  0.36446876847313847\n"
     ]
    }
   ],
   "source": [
    "print(\"Train Results for Decision Tree Regressor Model:\")\n",
    "print(50 * '-')\n",
    "print(\"Root mean squared error: \", sqrt(mse(y_train.values, y_train_pred)))\n",
    "print(\"Mean absolute error: \", mae(y_train.values, y_train_pred))\n",
    "print(\"R-squared: \", r2_score(y_train.values, y_train_pred))\n"
   ]
  },
  {
   "cell_type": "code",
   "execution_count": 47,
   "metadata": {
    "execution": {
     "iopub.execute_input": "2022-02-13T08:20:42.434791Z",
     "iopub.status.busy": "2022-02-13T08:20:42.434328Z",
     "iopub.status.idle": "2022-02-13T08:20:42.444038Z",
     "shell.execute_reply": "2022-02-13T08:20:42.443198Z",
     "shell.execute_reply.started": "2022-02-13T08:20:42.434757Z"
    }
   },
   "outputs": [
    {
     "name": "stdout",
     "output_type": "stream",
     "text": [
      "Test Results for Decision Tree Regressor Model:\n",
      "--------------------------------------------------\n",
      "Root mean squared error:  0.7086241287145016\n",
      "Mean absolute error:  0.5332242322782851\n",
      "R-squared:  0.33533445695674513\n"
     ]
    }
   ],
   "source": [
    "print(\"Test Results for Decision Tree Regressor Model:\")\n",
    "print(50 * '-')\n",
    "print(\"Root mean squared error: \", sqrt(mse(y_test, y_test_pred)))\n",
    "print(\"Mean absolute error: \", mae(y_test, y_test_pred))\n",
    "print(\"R-squared: \", r2_score(y_test, y_test_pred))"
   ]
  },
  {
   "cell_type": "markdown",
   "metadata": {},
   "source": [
    "# RF REGRESSOR"
   ]
  },
  {
   "cell_type": "code",
   "execution_count": 48,
   "metadata": {
    "execution": {
     "iopub.execute_input": "2022-02-13T08:20:42.447608Z",
     "iopub.status.busy": "2022-02-13T08:20:42.447414Z",
     "iopub.status.idle": "2022-02-13T09:16:37.413906Z",
     "shell.execute_reply": "2022-02-13T09:16:37.413235Z",
     "shell.execute_reply.started": "2022-02-13T08:20:42.447585Z"
    }
   },
   "outputs": [
    {
     "data": {
      "text/plain": [
       "RandomizedSearchCV(cv=5, estimator=RandomForestRegressor(), n_iter=20,\n",
       "                   n_jobs=-1,\n",
       "                   param_distributions={'min_samples_leaf': [1, 2, 4],\n",
       "                                        'min_samples_split': [2, 5, 10],\n",
       "                                        'n_estimators': [100, 200, 300, 400,\n",
       "                                                         500]},\n",
       "                   scoring='neg_mean_absolute_error')"
      ]
     },
     "execution_count": 48,
     "metadata": {},
     "output_type": "execute_result"
    }
   ],
   "source": [
    "tuned_params = {'n_estimators': [100, 200, 300, 400, 500], 'min_samples_split': [2, 5, 10], 'min_samples_leaf': [1, 2, 4]}\n",
    "random_regressor = RandomizedSearchCV(RandomForestRegressor(), tuned_params, n_iter = 20, scoring = 'neg_mean_absolute_error', cv = 5, n_jobs = -1)\n",
    "random_regressor.fit(X_train, y_train)"
   ]
  },
  {
   "cell_type": "code",
   "execution_count": 49,
   "metadata": {
    "execution": {
     "iopub.execute_input": "2022-02-13T09:16:37.415350Z",
     "iopub.status.busy": "2022-02-13T09:16:37.415114Z",
     "iopub.status.idle": "2022-02-13T09:16:47.323406Z",
     "shell.execute_reply": "2022-02-13T09:16:47.322700Z",
     "shell.execute_reply.started": "2022-02-13T09:16:37.415318Z"
    }
   },
   "outputs": [],
   "source": [
    "y_train_pred = random_regressor.predict(X_train)\n",
    "y_test_pred = random_regressor.predict(X_test)"
   ]
  },
  {
   "cell_type": "code",
   "execution_count": 50,
   "metadata": {
    "execution": {
     "iopub.execute_input": "2022-02-13T09:16:47.325002Z",
     "iopub.status.busy": "2022-02-13T09:16:47.324747Z",
     "iopub.status.idle": "2022-02-13T09:16:47.336565Z",
     "shell.execute_reply": "2022-02-13T09:16:47.335572Z",
     "shell.execute_reply.started": "2022-02-13T09:16:47.324970Z"
    }
   },
   "outputs": [
    {
     "name": "stdout",
     "output_type": "stream",
     "text": [
      "Train Results for Random Forest Regressor Model:\n",
      "--------------------------------------------------\n",
      "Root mean squared error:  0.44994705224247666\n",
      "Mean absolute error:  0.3358858490702489\n",
      "R-squared:  0.7275742219506862\n"
     ]
    }
   ],
   "source": [
    "print(\"Train Results for Random Forest Regressor Model:\")\n",
    "print(50 * '-')\n",
    "print(\"Root mean squared error: \", sqrt(mse(y_train.values, y_train_pred)))\n",
    "print(\"Mean absolute error: \", mae(y_train.values, y_train_pred))\n",
    "print(\"R-squared: \", r2_score(y_train.values, y_train_pred))"
   ]
  },
  {
   "cell_type": "code",
   "execution_count": 51,
   "metadata": {
    "execution": {
     "iopub.execute_input": "2022-02-13T09:16:47.338769Z",
     "iopub.status.busy": "2022-02-13T09:16:47.338212Z",
     "iopub.status.idle": "2022-02-13T09:16:47.349377Z",
     "shell.execute_reply": "2022-02-13T09:16:47.348464Z",
     "shell.execute_reply.started": "2022-02-13T09:16:47.338734Z"
    }
   },
   "outputs": [
    {
     "name": "stdout",
     "output_type": "stream",
     "text": [
      "Test Results for Random Forest Regressor Model:\n",
      "--------------------------------------------------\n",
      "Root mean squared error:  0.6745914680459376\n",
      "Mean absolute  error:  0.5043107231742436\n",
      "R-squared:  0.3976443597641398\n"
     ]
    }
   ],
   "source": [
    "print(\"Test Results for Random Forest Regressor Model:\")\n",
    "print(50 * '-')\n",
    "print(\"Root mean squared error: \", sqrt(mse(y_test, y_test_pred)))\n",
    "print(\"Mean absolute  error: \", mae(y_test, y_test_pred))\n",
    "print(\"R-squared: \", r2_score(y_test, y_test_pred))"
   ]
  },
  {
   "cell_type": "markdown",
   "metadata": {},
   "source": [
    "# Checking on test data"
   ]
  },
  {
   "cell_type": "code",
   "execution_count": 53,
   "metadata": {
    "execution": {
     "iopub.execute_input": "2022-02-13T09:25:58.723605Z",
     "iopub.status.busy": "2022-02-13T09:25:58.723338Z",
     "iopub.status.idle": "2022-02-13T09:25:58.731216Z",
     "shell.execute_reply": "2022-02-13T09:25:58.730438Z",
     "shell.execute_reply.started": "2022-02-13T09:25:58.723575Z"
    }
   },
   "outputs": [
    {
     "data": {
      "text/plain": [
       "row_id          int64\n",
       "user_id         int64\n",
       "category_id     int64\n",
       "video_id        int64\n",
       "age             int64\n",
       "gender         object\n",
       "profession     object\n",
       "followers       int64\n",
       "views           int64\n",
       "dtype: object"
      ]
     },
     "execution_count": 53,
     "metadata": {},
     "output_type": "execute_result"
    }
   ],
   "source": [
    "test.dtypes"
   ]
  },
  {
   "cell_type": "code",
   "execution_count": 54,
   "metadata": {
    "execution": {
     "iopub.execute_input": "2022-02-13T09:26:05.238856Z",
     "iopub.status.busy": "2022-02-13T09:26:05.238196Z",
     "iopub.status.idle": "2022-02-13T09:26:05.249265Z",
     "shell.execute_reply": "2022-02-13T09:26:05.248483Z",
     "shell.execute_reply.started": "2022-02-13T09:26:05.238819Z"
    }
   },
   "outputs": [
    {
     "data": {
      "text/plain": [
       "row_id         0\n",
       "user_id        0\n",
       "category_id    0\n",
       "video_id       0\n",
       "age            0\n",
       "gender         0\n",
       "profession     0\n",
       "followers      0\n",
       "views          0\n",
       "dtype: int64"
      ]
     },
     "execution_count": 54,
     "metadata": {},
     "output_type": "execute_result"
    }
   ],
   "source": [
    "test.isnull().sum()"
   ]
  },
  {
   "cell_type": "code",
   "execution_count": 55,
   "metadata": {
    "execution": {
     "iopub.execute_input": "2022-02-13T09:26:11.292641Z",
     "iopub.status.busy": "2022-02-13T09:26:11.292027Z",
     "iopub.status.idle": "2022-02-13T09:26:11.303731Z",
     "shell.execute_reply": "2022-02-13T09:26:11.303016Z",
     "shell.execute_reply.started": "2022-02-13T09:26:11.292599Z"
    }
   },
   "outputs": [
    {
     "data": {
      "text/html": [
       "<div>\n",
       "<style scoped>\n",
       "    .dataframe tbody tr th:only-of-type {\n",
       "        vertical-align: middle;\n",
       "    }\n",
       "\n",
       "    .dataframe tbody tr th {\n",
       "        vertical-align: top;\n",
       "    }\n",
       "\n",
       "    .dataframe thead th {\n",
       "        text-align: right;\n",
       "    }\n",
       "</style>\n",
       "<table border=\"1\" class=\"dataframe\">\n",
       "  <thead>\n",
       "    <tr style=\"text-align: right;\">\n",
       "      <th></th>\n",
       "      <th>row_id</th>\n",
       "      <th>user_id</th>\n",
       "      <th>category_id</th>\n",
       "      <th>video_id</th>\n",
       "      <th>age</th>\n",
       "      <th>gender</th>\n",
       "      <th>profession</th>\n",
       "      <th>followers</th>\n",
       "      <th>views</th>\n",
       "    </tr>\n",
       "  </thead>\n",
       "  <tbody>\n",
       "    <tr>\n",
       "      <th>0</th>\n",
       "      <td>89198</td>\n",
       "      <td>7986</td>\n",
       "      <td>12</td>\n",
       "      <td>42</td>\n",
       "      <td>14</td>\n",
       "      <td>Male</td>\n",
       "      <td>Student</td>\n",
       "      <td>180</td>\n",
       "      <td>138</td>\n",
       "    </tr>\n",
       "    <tr>\n",
       "      <th>1</th>\n",
       "      <td>89199</td>\n",
       "      <td>11278</td>\n",
       "      <td>34</td>\n",
       "      <td>115</td>\n",
       "      <td>14</td>\n",
       "      <td>Male</td>\n",
       "      <td>Student</td>\n",
       "      <td>230</td>\n",
       "      <td>840</td>\n",
       "    </tr>\n",
       "    <tr>\n",
       "      <th>2</th>\n",
       "      <td>89200</td>\n",
       "      <td>17245</td>\n",
       "      <td>8</td>\n",
       "      <td>110</td>\n",
       "      <td>44</td>\n",
       "      <td>Female</td>\n",
       "      <td>Working Professional</td>\n",
       "      <td>280</td>\n",
       "      <td>628</td>\n",
       "    </tr>\n",
       "    <tr>\n",
       "      <th>3</th>\n",
       "      <td>89201</td>\n",
       "      <td>9851</td>\n",
       "      <td>16</td>\n",
       "      <td>137</td>\n",
       "      <td>18</td>\n",
       "      <td>Male</td>\n",
       "      <td>Student</td>\n",
       "      <td>270</td>\n",
       "      <td>462</td>\n",
       "    </tr>\n",
       "    <tr>\n",
       "      <th>4</th>\n",
       "      <td>89202</td>\n",
       "      <td>16008</td>\n",
       "      <td>34</td>\n",
       "      <td>96</td>\n",
       "      <td>47</td>\n",
       "      <td>Female</td>\n",
       "      <td>Other</td>\n",
       "      <td>230</td>\n",
       "      <td>840</td>\n",
       "    </tr>\n",
       "  </tbody>\n",
       "</table>\n",
       "</div>"
      ],
      "text/plain": [
       "   row_id  user_id  category_id  video_id  age  gender            profession  \\\n",
       "0   89198     7986           12        42   14    Male               Student   \n",
       "1   89199    11278           34       115   14    Male               Student   \n",
       "2   89200    17245            8       110   44  Female  Working Professional   \n",
       "3   89201     9851           16       137   18    Male               Student   \n",
       "4   89202    16008           34        96   47  Female                 Other   \n",
       "\n",
       "   followers  views  \n",
       "0        180    138  \n",
       "1        230    840  \n",
       "2        280    628  \n",
       "3        270    462  \n",
       "4        230    840  "
      ]
     },
     "execution_count": 55,
     "metadata": {},
     "output_type": "execute_result"
    }
   ],
   "source": [
    "test.head()"
   ]
  },
  {
   "cell_type": "code",
   "execution_count": 56,
   "metadata": {
    "execution": {
     "iopub.execute_input": "2022-02-13T09:26:14.253413Z",
     "iopub.status.busy": "2022-02-13T09:26:14.252611Z",
     "iopub.status.idle": "2022-02-13T09:26:14.266748Z",
     "shell.execute_reply": "2022-02-13T09:26:14.265856Z",
     "shell.execute_reply.started": "2022-02-13T09:26:14.253367Z"
    }
   },
   "outputs": [
    {
     "name": "stdout",
     "output_type": "stream",
     "text": [
      "Male      6377\n",
      "Female    4744\n",
      "Name: gender, dtype: int64\n"
     ]
    }
   ],
   "source": [
    "print(test['gender'].value_counts())\n",
    "dummies = pd.get_dummies(test['gender'],drop_first=True)\n",
    "test_data = pd.concat([test.drop('gender',axis=1),dummies],axis=1)"
   ]
  },
  {
   "cell_type": "code",
   "execution_count": 57,
   "metadata": {
    "execution": {
     "iopub.execute_input": "2022-02-13T09:26:20.781371Z",
     "iopub.status.busy": "2022-02-13T09:26:20.781117Z",
     "iopub.status.idle": "2022-02-13T09:26:20.791982Z",
     "shell.execute_reply": "2022-02-13T09:26:20.791257Z",
     "shell.execute_reply.started": "2022-02-13T09:26:20.781343Z"
    }
   },
   "outputs": [
    {
     "data": {
      "text/html": [
       "<div>\n",
       "<style scoped>\n",
       "    .dataframe tbody tr th:only-of-type {\n",
       "        vertical-align: middle;\n",
       "    }\n",
       "\n",
       "    .dataframe tbody tr th {\n",
       "        vertical-align: top;\n",
       "    }\n",
       "\n",
       "    .dataframe thead th {\n",
       "        text-align: right;\n",
       "    }\n",
       "</style>\n",
       "<table border=\"1\" class=\"dataframe\">\n",
       "  <thead>\n",
       "    <tr style=\"text-align: right;\">\n",
       "      <th></th>\n",
       "      <th>row_id</th>\n",
       "      <th>user_id</th>\n",
       "      <th>category_id</th>\n",
       "      <th>video_id</th>\n",
       "      <th>age</th>\n",
       "      <th>profession</th>\n",
       "      <th>followers</th>\n",
       "      <th>views</th>\n",
       "      <th>Male</th>\n",
       "    </tr>\n",
       "  </thead>\n",
       "  <tbody>\n",
       "    <tr>\n",
       "      <th>0</th>\n",
       "      <td>89198</td>\n",
       "      <td>7986</td>\n",
       "      <td>12</td>\n",
       "      <td>42</td>\n",
       "      <td>14</td>\n",
       "      <td>Student</td>\n",
       "      <td>180</td>\n",
       "      <td>138</td>\n",
       "      <td>1</td>\n",
       "    </tr>\n",
       "    <tr>\n",
       "      <th>1</th>\n",
       "      <td>89199</td>\n",
       "      <td>11278</td>\n",
       "      <td>34</td>\n",
       "      <td>115</td>\n",
       "      <td>14</td>\n",
       "      <td>Student</td>\n",
       "      <td>230</td>\n",
       "      <td>840</td>\n",
       "      <td>1</td>\n",
       "    </tr>\n",
       "    <tr>\n",
       "      <th>2</th>\n",
       "      <td>89200</td>\n",
       "      <td>17245</td>\n",
       "      <td>8</td>\n",
       "      <td>110</td>\n",
       "      <td>44</td>\n",
       "      <td>Working Professional</td>\n",
       "      <td>280</td>\n",
       "      <td>628</td>\n",
       "      <td>0</td>\n",
       "    </tr>\n",
       "    <tr>\n",
       "      <th>3</th>\n",
       "      <td>89201</td>\n",
       "      <td>9851</td>\n",
       "      <td>16</td>\n",
       "      <td>137</td>\n",
       "      <td>18</td>\n",
       "      <td>Student</td>\n",
       "      <td>270</td>\n",
       "      <td>462</td>\n",
       "      <td>1</td>\n",
       "    </tr>\n",
       "    <tr>\n",
       "      <th>4</th>\n",
       "      <td>89202</td>\n",
       "      <td>16008</td>\n",
       "      <td>34</td>\n",
       "      <td>96</td>\n",
       "      <td>47</td>\n",
       "      <td>Other</td>\n",
       "      <td>230</td>\n",
       "      <td>840</td>\n",
       "      <td>0</td>\n",
       "    </tr>\n",
       "  </tbody>\n",
       "</table>\n",
       "</div>"
      ],
      "text/plain": [
       "   row_id  user_id  category_id  video_id  age            profession  \\\n",
       "0   89198     7986           12        42   14               Student   \n",
       "1   89199    11278           34       115   14               Student   \n",
       "2   89200    17245            8       110   44  Working Professional   \n",
       "3   89201     9851           16       137   18               Student   \n",
       "4   89202    16008           34        96   47                 Other   \n",
       "\n",
       "   followers  views  Male  \n",
       "0        180    138     1  \n",
       "1        230    840     1  \n",
       "2        280    628     0  \n",
       "3        270    462     1  \n",
       "4        230    840     0  "
      ]
     },
     "execution_count": 57,
     "metadata": {},
     "output_type": "execute_result"
    }
   ],
   "source": [
    "test_data.head()"
   ]
  },
  {
   "cell_type": "code",
   "execution_count": 58,
   "metadata": {
    "execution": {
     "iopub.execute_input": "2022-02-13T09:26:28.023574Z",
     "iopub.status.busy": "2022-02-13T09:26:28.023308Z",
     "iopub.status.idle": "2022-02-13T09:26:28.036894Z",
     "shell.execute_reply": "2022-02-13T09:26:28.036026Z",
     "shell.execute_reply.started": "2022-02-13T09:26:28.023539Z"
    }
   },
   "outputs": [
    {
     "name": "stdout",
     "output_type": "stream",
     "text": [
      "Student                 5572\n",
      "Other                   3366\n",
      "Working Professional    2183\n",
      "Name: profession, dtype: int64\n"
     ]
    }
   ],
   "source": [
    "print(test_data['profession'].value_counts())\n",
    "dummies = pd.get_dummies(test_data['profession'],drop_first=True)\n",
    "test_data = pd.concat([test_data.drop('profession',axis=1),dummies],axis=1)"
   ]
  },
  {
   "cell_type": "code",
   "execution_count": 59,
   "metadata": {
    "execution": {
     "iopub.execute_input": "2022-02-13T09:26:31.090328Z",
     "iopub.status.busy": "2022-02-13T09:26:31.089447Z",
     "iopub.status.idle": "2022-02-13T09:26:31.095946Z",
     "shell.execute_reply": "2022-02-13T09:26:31.095014Z",
     "shell.execute_reply.started": "2022-02-13T09:26:31.090287Z"
    }
   },
   "outputs": [],
   "source": [
    "test_data=test_data.drop(['row_id'],axis=1)"
   ]
  },
  {
   "cell_type": "code",
   "execution_count": 60,
   "metadata": {
    "execution": {
     "iopub.execute_input": "2022-02-13T09:26:34.230007Z",
     "iopub.status.busy": "2022-02-13T09:26:34.229460Z",
     "iopub.status.idle": "2022-02-13T09:26:34.241276Z",
     "shell.execute_reply": "2022-02-13T09:26:34.240465Z",
     "shell.execute_reply.started": "2022-02-13T09:26:34.229965Z"
    }
   },
   "outputs": [
    {
     "data": {
      "text/html": [
       "<div>\n",
       "<style scoped>\n",
       "    .dataframe tbody tr th:only-of-type {\n",
       "        vertical-align: middle;\n",
       "    }\n",
       "\n",
       "    .dataframe tbody tr th {\n",
       "        vertical-align: top;\n",
       "    }\n",
       "\n",
       "    .dataframe thead th {\n",
       "        text-align: right;\n",
       "    }\n",
       "</style>\n",
       "<table border=\"1\" class=\"dataframe\">\n",
       "  <thead>\n",
       "    <tr style=\"text-align: right;\">\n",
       "      <th></th>\n",
       "      <th>user_id</th>\n",
       "      <th>category_id</th>\n",
       "      <th>video_id</th>\n",
       "      <th>age</th>\n",
       "      <th>followers</th>\n",
       "      <th>views</th>\n",
       "      <th>Male</th>\n",
       "      <th>Student</th>\n",
       "      <th>Working Professional</th>\n",
       "    </tr>\n",
       "  </thead>\n",
       "  <tbody>\n",
       "    <tr>\n",
       "      <th>0</th>\n",
       "      <td>7986</td>\n",
       "      <td>12</td>\n",
       "      <td>42</td>\n",
       "      <td>14</td>\n",
       "      <td>180</td>\n",
       "      <td>138</td>\n",
       "      <td>1</td>\n",
       "      <td>1</td>\n",
       "      <td>0</td>\n",
       "    </tr>\n",
       "    <tr>\n",
       "      <th>1</th>\n",
       "      <td>11278</td>\n",
       "      <td>34</td>\n",
       "      <td>115</td>\n",
       "      <td>14</td>\n",
       "      <td>230</td>\n",
       "      <td>840</td>\n",
       "      <td>1</td>\n",
       "      <td>1</td>\n",
       "      <td>0</td>\n",
       "    </tr>\n",
       "    <tr>\n",
       "      <th>2</th>\n",
       "      <td>17245</td>\n",
       "      <td>8</td>\n",
       "      <td>110</td>\n",
       "      <td>44</td>\n",
       "      <td>280</td>\n",
       "      <td>628</td>\n",
       "      <td>0</td>\n",
       "      <td>0</td>\n",
       "      <td>1</td>\n",
       "    </tr>\n",
       "    <tr>\n",
       "      <th>3</th>\n",
       "      <td>9851</td>\n",
       "      <td>16</td>\n",
       "      <td>137</td>\n",
       "      <td>18</td>\n",
       "      <td>270</td>\n",
       "      <td>462</td>\n",
       "      <td>1</td>\n",
       "      <td>1</td>\n",
       "      <td>0</td>\n",
       "    </tr>\n",
       "    <tr>\n",
       "      <th>4</th>\n",
       "      <td>16008</td>\n",
       "      <td>34</td>\n",
       "      <td>96</td>\n",
       "      <td>47</td>\n",
       "      <td>230</td>\n",
       "      <td>840</td>\n",
       "      <td>0</td>\n",
       "      <td>0</td>\n",
       "      <td>0</td>\n",
       "    </tr>\n",
       "  </tbody>\n",
       "</table>\n",
       "</div>"
      ],
      "text/plain": [
       "   user_id  category_id  video_id  age  followers  views  Male  Student  \\\n",
       "0     7986           12        42   14        180    138     1        1   \n",
       "1    11278           34       115   14        230    840     1        1   \n",
       "2    17245            8       110   44        280    628     0        0   \n",
       "3     9851           16       137   18        270    462     1        1   \n",
       "4    16008           34        96   47        230    840     0        0   \n",
       "\n",
       "   Working Professional  \n",
       "0                     0  \n",
       "1                     0  \n",
       "2                     1  \n",
       "3                     0  \n",
       "4                     0  "
      ]
     },
     "execution_count": 60,
     "metadata": {},
     "output_type": "execute_result"
    }
   ],
   "source": [
    "test_data.head()"
   ]
  },
  {
   "cell_type": "code",
   "execution_count": 61,
   "metadata": {
    "execution": {
     "iopub.execute_input": "2022-02-13T09:27:04.734566Z",
     "iopub.status.busy": "2022-02-13T09:27:04.734281Z",
     "iopub.status.idle": "2022-02-13T09:27:06.288987Z",
     "shell.execute_reply": "2022-02-13T09:27:06.288289Z",
     "shell.execute_reply.started": "2022-02-13T09:27:04.734519Z"
    }
   },
   "outputs": [],
   "source": [
    "y_test_ridge_pred = ridge_regressor.predict(test_data)\n",
    "y_test_lasso_pred =lasso_regressor.predict(test_data)\n",
    "y_test_knn_pred = knn_regressor.predict(test_data)\n",
    "y_test_dt_pred = tree.predict(test_data)\n",
    "y_test_rf_pred = random_regressor.predict(test_data)\n",
    "# y_test_xgb_pred = model_xgb.predict(test_data)"
   ]
  },
  {
   "cell_type": "code",
   "execution_count": null,
   "metadata": {
    "execution": {
     "iopub.execute_input": "2022-02-13T07:56:34.400868Z",
     "iopub.status.busy": "2022-02-13T07:56:34.399917Z",
     "iopub.status.idle": "2022-02-13T07:56:34.40856Z",
     "shell.execute_reply": "2022-02-13T07:56:34.407727Z",
     "shell.execute_reply.started": "2022-02-13T07:56:34.40082Z"
    }
   },
   "outputs": [],
   "source": [
    "y_test_pred"
   ]
  },
  {
   "cell_type": "code",
   "execution_count": 62,
   "metadata": {
    "execution": {
     "iopub.execute_input": "2022-02-13T09:27:19.453428Z",
     "iopub.status.busy": "2022-02-13T09:27:19.453168Z",
     "iopub.status.idle": "2022-02-13T09:27:19.461833Z",
     "shell.execute_reply": "2022-02-13T09:27:19.460852Z",
     "shell.execute_reply.started": "2022-02-13T09:27:19.453398Z"
    }
   },
   "outputs": [],
   "source": [
    "test_data['engagement_score_ridge'] = y_test_ridge_pred\n",
    "test_data['engagement_score_lasso'] = y_test_lasso_pred\n",
    "test_data['engagement_score_knn'] = y_test_knn_pred\n",
    "test_data['engagement_score_dt'] = y_test_dt_pred\n",
    "test_data['engagement_score_rf'] = y_test_rf_pred\n",
    "# test_data['engagement_score_xgb'] = y_test_xgb_pred"
   ]
  },
  {
   "cell_type": "code",
   "execution_count": 63,
   "metadata": {
    "execution": {
     "iopub.execute_input": "2022-02-13T09:27:22.245595Z",
     "iopub.status.busy": "2022-02-13T09:27:22.245318Z",
     "iopub.status.idle": "2022-02-13T09:27:22.267208Z",
     "shell.execute_reply": "2022-02-13T09:27:22.266447Z",
     "shell.execute_reply.started": "2022-02-13T09:27:22.245564Z"
    }
   },
   "outputs": [
    {
     "data": {
      "text/html": [
       "<div>\n",
       "<style scoped>\n",
       "    .dataframe tbody tr th:only-of-type {\n",
       "        vertical-align: middle;\n",
       "    }\n",
       "\n",
       "    .dataframe tbody tr th {\n",
       "        vertical-align: top;\n",
       "    }\n",
       "\n",
       "    .dataframe thead th {\n",
       "        text-align: right;\n",
       "    }\n",
       "</style>\n",
       "<table border=\"1\" class=\"dataframe\">\n",
       "  <thead>\n",
       "    <tr style=\"text-align: right;\">\n",
       "      <th></th>\n",
       "      <th>user_id</th>\n",
       "      <th>category_id</th>\n",
       "      <th>video_id</th>\n",
       "      <th>age</th>\n",
       "      <th>followers</th>\n",
       "      <th>views</th>\n",
       "      <th>Male</th>\n",
       "      <th>Student</th>\n",
       "      <th>Working Professional</th>\n",
       "      <th>engagement_score_ridge</th>\n",
       "      <th>engagement_score_lasso</th>\n",
       "      <th>engagement_score_knn</th>\n",
       "      <th>engagement_score_dt</th>\n",
       "      <th>engagement_score_rf</th>\n",
       "    </tr>\n",
       "  </thead>\n",
       "  <tbody>\n",
       "    <tr>\n",
       "      <th>0</th>\n",
       "      <td>7986</td>\n",
       "      <td>12</td>\n",
       "      <td>42</td>\n",
       "      <td>14</td>\n",
       "      <td>180</td>\n",
       "      <td>138</td>\n",
       "      <td>1</td>\n",
       "      <td>1</td>\n",
       "      <td>0</td>\n",
       "      <td>4.104768</td>\n",
       "      <td>4.104601</td>\n",
       "      <td>3.401034</td>\n",
       "      <td>4.109443</td>\n",
       "      <td>4.079172</td>\n",
       "    </tr>\n",
       "    <tr>\n",
       "      <th>1</th>\n",
       "      <td>11278</td>\n",
       "      <td>34</td>\n",
       "      <td>115</td>\n",
       "      <td>14</td>\n",
       "      <td>230</td>\n",
       "      <td>840</td>\n",
       "      <td>1</td>\n",
       "      <td>1</td>\n",
       "      <td>0</td>\n",
       "      <td>3.839753</td>\n",
       "      <td>3.839578</td>\n",
       "      <td>3.164138</td>\n",
       "      <td>3.831422</td>\n",
       "      <td>3.370679</td>\n",
       "    </tr>\n",
       "    <tr>\n",
       "      <th>2</th>\n",
       "      <td>17245</td>\n",
       "      <td>8</td>\n",
       "      <td>110</td>\n",
       "      <td>44</td>\n",
       "      <td>280</td>\n",
       "      <td>628</td>\n",
       "      <td>0</td>\n",
       "      <td>0</td>\n",
       "      <td>1</td>\n",
       "      <td>2.766573</td>\n",
       "      <td>2.766684</td>\n",
       "      <td>3.661034</td>\n",
       "      <td>2.720686</td>\n",
       "      <td>2.592641</td>\n",
       "    </tr>\n",
       "    <tr>\n",
       "      <th>3</th>\n",
       "      <td>9851</td>\n",
       "      <td>16</td>\n",
       "      <td>137</td>\n",
       "      <td>18</td>\n",
       "      <td>270</td>\n",
       "      <td>462</td>\n",
       "      <td>1</td>\n",
       "      <td>1</td>\n",
       "      <td>0</td>\n",
       "      <td>4.085669</td>\n",
       "      <td>4.085269</td>\n",
       "      <td>3.630345</td>\n",
       "      <td>4.033378</td>\n",
       "      <td>3.727879</td>\n",
       "    </tr>\n",
       "    <tr>\n",
       "      <th>4</th>\n",
       "      <td>16008</td>\n",
       "      <td>34</td>\n",
       "      <td>96</td>\n",
       "      <td>47</td>\n",
       "      <td>230</td>\n",
       "      <td>840</td>\n",
       "      <td>0</td>\n",
       "      <td>0</td>\n",
       "      <td>0</td>\n",
       "      <td>2.738871</td>\n",
       "      <td>2.738313</td>\n",
       "      <td>3.018966</td>\n",
       "      <td>0.000000</td>\n",
       "      <td>1.654284</td>\n",
       "    </tr>\n",
       "    <tr>\n",
       "      <th>...</th>\n",
       "      <td>...</td>\n",
       "      <td>...</td>\n",
       "      <td>...</td>\n",
       "      <td>...</td>\n",
       "      <td>...</td>\n",
       "      <td>...</td>\n",
       "      <td>...</td>\n",
       "      <td>...</td>\n",
       "      <td>...</td>\n",
       "      <td>...</td>\n",
       "      <td>...</td>\n",
       "      <td>...</td>\n",
       "      <td>...</td>\n",
       "      <td>...</td>\n",
       "    </tr>\n",
       "    <tr>\n",
       "      <th>11116</th>\n",
       "      <td>26336</td>\n",
       "      <td>25</td>\n",
       "      <td>140</td>\n",
       "      <td>21</td>\n",
       "      <td>240</td>\n",
       "      <td>317</td>\n",
       "      <td>1</td>\n",
       "      <td>1</td>\n",
       "      <td>0</td>\n",
       "      <td>4.037159</td>\n",
       "      <td>4.036608</td>\n",
       "      <td>3.384138</td>\n",
       "      <td>3.957541</td>\n",
       "      <td>3.426137</td>\n",
       "    </tr>\n",
       "    <tr>\n",
       "      <th>11117</th>\n",
       "      <td>6772</td>\n",
       "      <td>8</td>\n",
       "      <td>100</td>\n",
       "      <td>19</td>\n",
       "      <td>280</td>\n",
       "      <td>628</td>\n",
       "      <td>0</td>\n",
       "      <td>1</td>\n",
       "      <td>0</td>\n",
       "      <td>3.395434</td>\n",
       "      <td>3.395397</td>\n",
       "      <td>3.753793</td>\n",
       "      <td>3.488652</td>\n",
       "      <td>3.112287</td>\n",
       "    </tr>\n",
       "    <tr>\n",
       "      <th>11118</th>\n",
       "      <td>2042</td>\n",
       "      <td>16</td>\n",
       "      <td>98</td>\n",
       "      <td>22</td>\n",
       "      <td>270</td>\n",
       "      <td>462</td>\n",
       "      <td>1</td>\n",
       "      <td>1</td>\n",
       "      <td>0</td>\n",
       "      <td>4.077724</td>\n",
       "      <td>4.077128</td>\n",
       "      <td>3.367241</td>\n",
       "      <td>3.884439</td>\n",
       "      <td>3.490755</td>\n",
       "    </tr>\n",
       "    <tr>\n",
       "      <th>11119</th>\n",
       "      <td>24626</td>\n",
       "      <td>8</td>\n",
       "      <td>16</td>\n",
       "      <td>33</td>\n",
       "      <td>280</td>\n",
       "      <td>628</td>\n",
       "      <td>1</td>\n",
       "      <td>0</td>\n",
       "      <td>0</td>\n",
       "      <td>3.667593</td>\n",
       "      <td>3.667342</td>\n",
       "      <td>3.397241</td>\n",
       "      <td>3.730905</td>\n",
       "      <td>3.856555</td>\n",
       "    </tr>\n",
       "    <tr>\n",
       "      <th>11120</th>\n",
       "      <td>967</td>\n",
       "      <td>8</td>\n",
       "      <td>74</td>\n",
       "      <td>33</td>\n",
       "      <td>280</td>\n",
       "      <td>628</td>\n",
       "      <td>1</td>\n",
       "      <td>0</td>\n",
       "      <td>1</td>\n",
       "      <td>3.454476</td>\n",
       "      <td>3.454760</td>\n",
       "      <td>3.603103</td>\n",
       "      <td>3.413830</td>\n",
       "      <td>3.324160</td>\n",
       "    </tr>\n",
       "  </tbody>\n",
       "</table>\n",
       "<p>11121 rows × 14 columns</p>\n",
       "</div>"
      ],
      "text/plain": [
       "       user_id  category_id  video_id  age  followers  views  Male  Student  \\\n",
       "0         7986           12        42   14        180    138     1        1   \n",
       "1        11278           34       115   14        230    840     1        1   \n",
       "2        17245            8       110   44        280    628     0        0   \n",
       "3         9851           16       137   18        270    462     1        1   \n",
       "4        16008           34        96   47        230    840     0        0   \n",
       "...        ...          ...       ...  ...        ...    ...   ...      ...   \n",
       "11116    26336           25       140   21        240    317     1        1   \n",
       "11117     6772            8       100   19        280    628     0        1   \n",
       "11118     2042           16        98   22        270    462     1        1   \n",
       "11119    24626            8        16   33        280    628     1        0   \n",
       "11120      967            8        74   33        280    628     1        0   \n",
       "\n",
       "       Working Professional  engagement_score_ridge  engagement_score_lasso  \\\n",
       "0                         0                4.104768                4.104601   \n",
       "1                         0                3.839753                3.839578   \n",
       "2                         1                2.766573                2.766684   \n",
       "3                         0                4.085669                4.085269   \n",
       "4                         0                2.738871                2.738313   \n",
       "...                     ...                     ...                     ...   \n",
       "11116                     0                4.037159                4.036608   \n",
       "11117                     0                3.395434                3.395397   \n",
       "11118                     0                4.077724                4.077128   \n",
       "11119                     0                3.667593                3.667342   \n",
       "11120                     1                3.454476                3.454760   \n",
       "\n",
       "       engagement_score_knn  engagement_score_dt  engagement_score_rf  \n",
       "0                  3.401034             4.109443             4.079172  \n",
       "1                  3.164138             3.831422             3.370679  \n",
       "2                  3.661034             2.720686             2.592641  \n",
       "3                  3.630345             4.033378             3.727879  \n",
       "4                  3.018966             0.000000             1.654284  \n",
       "...                     ...                  ...                  ...  \n",
       "11116              3.384138             3.957541             3.426137  \n",
       "11117              3.753793             3.488652             3.112287  \n",
       "11118              3.367241             3.884439             3.490755  \n",
       "11119              3.397241             3.730905             3.856555  \n",
       "11120              3.603103             3.413830             3.324160  \n",
       "\n",
       "[11121 rows x 14 columns]"
      ]
     },
     "execution_count": 63,
     "metadata": {},
     "output_type": "execute_result"
    }
   ],
   "source": [
    "test_data"
   ]
  },
  {
   "cell_type": "code",
   "execution_count": 64,
   "metadata": {
    "execution": {
     "iopub.execute_input": "2022-02-13T09:27:38.032452Z",
     "iopub.status.busy": "2022-02-13T09:27:38.032195Z",
     "iopub.status.idle": "2022-02-13T09:27:38.052306Z",
     "shell.execute_reply": "2022-02-13T09:27:38.051642Z",
     "shell.execute_reply.started": "2022-02-13T09:27:38.032417Z"
    }
   },
   "outputs": [],
   "source": [
    "test=pd.read_csv(\"../input/testdata/test_1zqHu22.csv\")"
   ]
  },
  {
   "cell_type": "code",
   "execution_count": 65,
   "metadata": {
    "execution": {
     "iopub.execute_input": "2022-02-13T09:27:40.710412Z",
     "iopub.status.busy": "2022-02-13T09:27:40.709756Z",
     "iopub.status.idle": "2022-02-13T09:27:40.728575Z",
     "shell.execute_reply": "2022-02-13T09:27:40.727815Z",
     "shell.execute_reply.started": "2022-02-13T09:27:40.710375Z"
    }
   },
   "outputs": [
    {
     "data": {
      "text/html": [
       "<div>\n",
       "<style scoped>\n",
       "    .dataframe tbody tr th:only-of-type {\n",
       "        vertical-align: middle;\n",
       "    }\n",
       "\n",
       "    .dataframe tbody tr th {\n",
       "        vertical-align: top;\n",
       "    }\n",
       "\n",
       "    .dataframe thead th {\n",
       "        text-align: right;\n",
       "    }\n",
       "</style>\n",
       "<table border=\"1\" class=\"dataframe\">\n",
       "  <thead>\n",
       "    <tr style=\"text-align: right;\">\n",
       "      <th></th>\n",
       "      <th>row_id</th>\n",
       "      <th>user_id</th>\n",
       "      <th>category_id</th>\n",
       "      <th>video_id</th>\n",
       "      <th>age</th>\n",
       "      <th>gender</th>\n",
       "      <th>profession</th>\n",
       "      <th>followers</th>\n",
       "      <th>views</th>\n",
       "    </tr>\n",
       "  </thead>\n",
       "  <tbody>\n",
       "    <tr>\n",
       "      <th>0</th>\n",
       "      <td>89198</td>\n",
       "      <td>7986</td>\n",
       "      <td>12</td>\n",
       "      <td>42</td>\n",
       "      <td>14</td>\n",
       "      <td>Male</td>\n",
       "      <td>Student</td>\n",
       "      <td>180</td>\n",
       "      <td>138</td>\n",
       "    </tr>\n",
       "    <tr>\n",
       "      <th>1</th>\n",
       "      <td>89199</td>\n",
       "      <td>11278</td>\n",
       "      <td>34</td>\n",
       "      <td>115</td>\n",
       "      <td>14</td>\n",
       "      <td>Male</td>\n",
       "      <td>Student</td>\n",
       "      <td>230</td>\n",
       "      <td>840</td>\n",
       "    </tr>\n",
       "    <tr>\n",
       "      <th>2</th>\n",
       "      <td>89200</td>\n",
       "      <td>17245</td>\n",
       "      <td>8</td>\n",
       "      <td>110</td>\n",
       "      <td>44</td>\n",
       "      <td>Female</td>\n",
       "      <td>Working Professional</td>\n",
       "      <td>280</td>\n",
       "      <td>628</td>\n",
       "    </tr>\n",
       "    <tr>\n",
       "      <th>3</th>\n",
       "      <td>89201</td>\n",
       "      <td>9851</td>\n",
       "      <td>16</td>\n",
       "      <td>137</td>\n",
       "      <td>18</td>\n",
       "      <td>Male</td>\n",
       "      <td>Student</td>\n",
       "      <td>270</td>\n",
       "      <td>462</td>\n",
       "    </tr>\n",
       "    <tr>\n",
       "      <th>4</th>\n",
       "      <td>89202</td>\n",
       "      <td>16008</td>\n",
       "      <td>34</td>\n",
       "      <td>96</td>\n",
       "      <td>47</td>\n",
       "      <td>Female</td>\n",
       "      <td>Other</td>\n",
       "      <td>230</td>\n",
       "      <td>840</td>\n",
       "    </tr>\n",
       "    <tr>\n",
       "      <th>...</th>\n",
       "      <td>...</td>\n",
       "      <td>...</td>\n",
       "      <td>...</td>\n",
       "      <td>...</td>\n",
       "      <td>...</td>\n",
       "      <td>...</td>\n",
       "      <td>...</td>\n",
       "      <td>...</td>\n",
       "      <td>...</td>\n",
       "    </tr>\n",
       "    <tr>\n",
       "      <th>11116</th>\n",
       "      <td>100314</td>\n",
       "      <td>26336</td>\n",
       "      <td>25</td>\n",
       "      <td>140</td>\n",
       "      <td>21</td>\n",
       "      <td>Male</td>\n",
       "      <td>Student</td>\n",
       "      <td>240</td>\n",
       "      <td>317</td>\n",
       "    </tr>\n",
       "    <tr>\n",
       "      <th>11117</th>\n",
       "      <td>100315</td>\n",
       "      <td>6772</td>\n",
       "      <td>8</td>\n",
       "      <td>100</td>\n",
       "      <td>19</td>\n",
       "      <td>Female</td>\n",
       "      <td>Student</td>\n",
       "      <td>280</td>\n",
       "      <td>628</td>\n",
       "    </tr>\n",
       "    <tr>\n",
       "      <th>11118</th>\n",
       "      <td>100316</td>\n",
       "      <td>2042</td>\n",
       "      <td>16</td>\n",
       "      <td>98</td>\n",
       "      <td>22</td>\n",
       "      <td>Male</td>\n",
       "      <td>Student</td>\n",
       "      <td>270</td>\n",
       "      <td>462</td>\n",
       "    </tr>\n",
       "    <tr>\n",
       "      <th>11119</th>\n",
       "      <td>100317</td>\n",
       "      <td>24626</td>\n",
       "      <td>8</td>\n",
       "      <td>16</td>\n",
       "      <td>33</td>\n",
       "      <td>Male</td>\n",
       "      <td>Other</td>\n",
       "      <td>280</td>\n",
       "      <td>628</td>\n",
       "    </tr>\n",
       "    <tr>\n",
       "      <th>11120</th>\n",
       "      <td>100318</td>\n",
       "      <td>967</td>\n",
       "      <td>8</td>\n",
       "      <td>74</td>\n",
       "      <td>33</td>\n",
       "      <td>Male</td>\n",
       "      <td>Working Professional</td>\n",
       "      <td>280</td>\n",
       "      <td>628</td>\n",
       "    </tr>\n",
       "  </tbody>\n",
       "</table>\n",
       "<p>11121 rows × 9 columns</p>\n",
       "</div>"
      ],
      "text/plain": [
       "       row_id  user_id  category_id  video_id  age  gender  \\\n",
       "0       89198     7986           12        42   14    Male   \n",
       "1       89199    11278           34       115   14    Male   \n",
       "2       89200    17245            8       110   44  Female   \n",
       "3       89201     9851           16       137   18    Male   \n",
       "4       89202    16008           34        96   47  Female   \n",
       "...       ...      ...          ...       ...  ...     ...   \n",
       "11116  100314    26336           25       140   21    Male   \n",
       "11117  100315     6772            8       100   19  Female   \n",
       "11118  100316     2042           16        98   22    Male   \n",
       "11119  100317    24626            8        16   33    Male   \n",
       "11120  100318      967            8        74   33    Male   \n",
       "\n",
       "                 profession  followers  views  \n",
       "0                   Student        180    138  \n",
       "1                   Student        230    840  \n",
       "2      Working Professional        280    628  \n",
       "3                   Student        270    462  \n",
       "4                     Other        230    840  \n",
       "...                     ...        ...    ...  \n",
       "11116               Student        240    317  \n",
       "11117               Student        280    628  \n",
       "11118               Student        270    462  \n",
       "11119                 Other        280    628  \n",
       "11120  Working Professional        280    628  \n",
       "\n",
       "[11121 rows x 9 columns]"
      ]
     },
     "execution_count": 65,
     "metadata": {},
     "output_type": "execute_result"
    }
   ],
   "source": [
    "test"
   ]
  },
  {
   "cell_type": "code",
   "execution_count": 66,
   "metadata": {
    "execution": {
     "iopub.execute_input": "2022-02-13T09:27:48.616149Z",
     "iopub.status.busy": "2022-02-13T09:27:48.615602Z",
     "iopub.status.idle": "2022-02-13T09:27:48.624477Z",
     "shell.execute_reply": "2022-02-13T09:27:48.623686Z",
     "shell.execute_reply.started": "2022-02-13T09:27:48.616107Z"
    }
   },
   "outputs": [],
   "source": [
    "test_data['row_id']=test['row_id']"
   ]
  },
  {
   "cell_type": "code",
   "execution_count": 67,
   "metadata": {
    "execution": {
     "iopub.execute_input": "2022-02-13T09:27:51.183039Z",
     "iopub.status.busy": "2022-02-13T09:27:51.182279Z",
     "iopub.status.idle": "2022-02-13T09:27:51.205724Z",
     "shell.execute_reply": "2022-02-13T09:27:51.204865Z",
     "shell.execute_reply.started": "2022-02-13T09:27:51.182995Z"
    }
   },
   "outputs": [
    {
     "data": {
      "text/html": [
       "<div>\n",
       "<style scoped>\n",
       "    .dataframe tbody tr th:only-of-type {\n",
       "        vertical-align: middle;\n",
       "    }\n",
       "\n",
       "    .dataframe tbody tr th {\n",
       "        vertical-align: top;\n",
       "    }\n",
       "\n",
       "    .dataframe thead th {\n",
       "        text-align: right;\n",
       "    }\n",
       "</style>\n",
       "<table border=\"1\" class=\"dataframe\">\n",
       "  <thead>\n",
       "    <tr style=\"text-align: right;\">\n",
       "      <th></th>\n",
       "      <th>user_id</th>\n",
       "      <th>category_id</th>\n",
       "      <th>video_id</th>\n",
       "      <th>age</th>\n",
       "      <th>followers</th>\n",
       "      <th>views</th>\n",
       "      <th>Male</th>\n",
       "      <th>Student</th>\n",
       "      <th>Working Professional</th>\n",
       "      <th>engagement_score_ridge</th>\n",
       "      <th>engagement_score_lasso</th>\n",
       "      <th>engagement_score_knn</th>\n",
       "      <th>engagement_score_dt</th>\n",
       "      <th>engagement_score_rf</th>\n",
       "      <th>row_id</th>\n",
       "    </tr>\n",
       "  </thead>\n",
       "  <tbody>\n",
       "    <tr>\n",
       "      <th>0</th>\n",
       "      <td>7986</td>\n",
       "      <td>12</td>\n",
       "      <td>42</td>\n",
       "      <td>14</td>\n",
       "      <td>180</td>\n",
       "      <td>138</td>\n",
       "      <td>1</td>\n",
       "      <td>1</td>\n",
       "      <td>0</td>\n",
       "      <td>4.104768</td>\n",
       "      <td>4.104601</td>\n",
       "      <td>3.401034</td>\n",
       "      <td>4.109443</td>\n",
       "      <td>4.079172</td>\n",
       "      <td>89198</td>\n",
       "    </tr>\n",
       "    <tr>\n",
       "      <th>1</th>\n",
       "      <td>11278</td>\n",
       "      <td>34</td>\n",
       "      <td>115</td>\n",
       "      <td>14</td>\n",
       "      <td>230</td>\n",
       "      <td>840</td>\n",
       "      <td>1</td>\n",
       "      <td>1</td>\n",
       "      <td>0</td>\n",
       "      <td>3.839753</td>\n",
       "      <td>3.839578</td>\n",
       "      <td>3.164138</td>\n",
       "      <td>3.831422</td>\n",
       "      <td>3.370679</td>\n",
       "      <td>89199</td>\n",
       "    </tr>\n",
       "    <tr>\n",
       "      <th>2</th>\n",
       "      <td>17245</td>\n",
       "      <td>8</td>\n",
       "      <td>110</td>\n",
       "      <td>44</td>\n",
       "      <td>280</td>\n",
       "      <td>628</td>\n",
       "      <td>0</td>\n",
       "      <td>0</td>\n",
       "      <td>1</td>\n",
       "      <td>2.766573</td>\n",
       "      <td>2.766684</td>\n",
       "      <td>3.661034</td>\n",
       "      <td>2.720686</td>\n",
       "      <td>2.592641</td>\n",
       "      <td>89200</td>\n",
       "    </tr>\n",
       "    <tr>\n",
       "      <th>3</th>\n",
       "      <td>9851</td>\n",
       "      <td>16</td>\n",
       "      <td>137</td>\n",
       "      <td>18</td>\n",
       "      <td>270</td>\n",
       "      <td>462</td>\n",
       "      <td>1</td>\n",
       "      <td>1</td>\n",
       "      <td>0</td>\n",
       "      <td>4.085669</td>\n",
       "      <td>4.085269</td>\n",
       "      <td>3.630345</td>\n",
       "      <td>4.033378</td>\n",
       "      <td>3.727879</td>\n",
       "      <td>89201</td>\n",
       "    </tr>\n",
       "    <tr>\n",
       "      <th>4</th>\n",
       "      <td>16008</td>\n",
       "      <td>34</td>\n",
       "      <td>96</td>\n",
       "      <td>47</td>\n",
       "      <td>230</td>\n",
       "      <td>840</td>\n",
       "      <td>0</td>\n",
       "      <td>0</td>\n",
       "      <td>0</td>\n",
       "      <td>2.738871</td>\n",
       "      <td>2.738313</td>\n",
       "      <td>3.018966</td>\n",
       "      <td>0.000000</td>\n",
       "      <td>1.654284</td>\n",
       "      <td>89202</td>\n",
       "    </tr>\n",
       "    <tr>\n",
       "      <th>...</th>\n",
       "      <td>...</td>\n",
       "      <td>...</td>\n",
       "      <td>...</td>\n",
       "      <td>...</td>\n",
       "      <td>...</td>\n",
       "      <td>...</td>\n",
       "      <td>...</td>\n",
       "      <td>...</td>\n",
       "      <td>...</td>\n",
       "      <td>...</td>\n",
       "      <td>...</td>\n",
       "      <td>...</td>\n",
       "      <td>...</td>\n",
       "      <td>...</td>\n",
       "      <td>...</td>\n",
       "    </tr>\n",
       "    <tr>\n",
       "      <th>11116</th>\n",
       "      <td>26336</td>\n",
       "      <td>25</td>\n",
       "      <td>140</td>\n",
       "      <td>21</td>\n",
       "      <td>240</td>\n",
       "      <td>317</td>\n",
       "      <td>1</td>\n",
       "      <td>1</td>\n",
       "      <td>0</td>\n",
       "      <td>4.037159</td>\n",
       "      <td>4.036608</td>\n",
       "      <td>3.384138</td>\n",
       "      <td>3.957541</td>\n",
       "      <td>3.426137</td>\n",
       "      <td>100314</td>\n",
       "    </tr>\n",
       "    <tr>\n",
       "      <th>11117</th>\n",
       "      <td>6772</td>\n",
       "      <td>8</td>\n",
       "      <td>100</td>\n",
       "      <td>19</td>\n",
       "      <td>280</td>\n",
       "      <td>628</td>\n",
       "      <td>0</td>\n",
       "      <td>1</td>\n",
       "      <td>0</td>\n",
       "      <td>3.395434</td>\n",
       "      <td>3.395397</td>\n",
       "      <td>3.753793</td>\n",
       "      <td>3.488652</td>\n",
       "      <td>3.112287</td>\n",
       "      <td>100315</td>\n",
       "    </tr>\n",
       "    <tr>\n",
       "      <th>11118</th>\n",
       "      <td>2042</td>\n",
       "      <td>16</td>\n",
       "      <td>98</td>\n",
       "      <td>22</td>\n",
       "      <td>270</td>\n",
       "      <td>462</td>\n",
       "      <td>1</td>\n",
       "      <td>1</td>\n",
       "      <td>0</td>\n",
       "      <td>4.077724</td>\n",
       "      <td>4.077128</td>\n",
       "      <td>3.367241</td>\n",
       "      <td>3.884439</td>\n",
       "      <td>3.490755</td>\n",
       "      <td>100316</td>\n",
       "    </tr>\n",
       "    <tr>\n",
       "      <th>11119</th>\n",
       "      <td>24626</td>\n",
       "      <td>8</td>\n",
       "      <td>16</td>\n",
       "      <td>33</td>\n",
       "      <td>280</td>\n",
       "      <td>628</td>\n",
       "      <td>1</td>\n",
       "      <td>0</td>\n",
       "      <td>0</td>\n",
       "      <td>3.667593</td>\n",
       "      <td>3.667342</td>\n",
       "      <td>3.397241</td>\n",
       "      <td>3.730905</td>\n",
       "      <td>3.856555</td>\n",
       "      <td>100317</td>\n",
       "    </tr>\n",
       "    <tr>\n",
       "      <th>11120</th>\n",
       "      <td>967</td>\n",
       "      <td>8</td>\n",
       "      <td>74</td>\n",
       "      <td>33</td>\n",
       "      <td>280</td>\n",
       "      <td>628</td>\n",
       "      <td>1</td>\n",
       "      <td>0</td>\n",
       "      <td>1</td>\n",
       "      <td>3.454476</td>\n",
       "      <td>3.454760</td>\n",
       "      <td>3.603103</td>\n",
       "      <td>3.413830</td>\n",
       "      <td>3.324160</td>\n",
       "      <td>100318</td>\n",
       "    </tr>\n",
       "  </tbody>\n",
       "</table>\n",
       "<p>11121 rows × 15 columns</p>\n",
       "</div>"
      ],
      "text/plain": [
       "       user_id  category_id  video_id  age  followers  views  Male  Student  \\\n",
       "0         7986           12        42   14        180    138     1        1   \n",
       "1        11278           34       115   14        230    840     1        1   \n",
       "2        17245            8       110   44        280    628     0        0   \n",
       "3         9851           16       137   18        270    462     1        1   \n",
       "4        16008           34        96   47        230    840     0        0   \n",
       "...        ...          ...       ...  ...        ...    ...   ...      ...   \n",
       "11116    26336           25       140   21        240    317     1        1   \n",
       "11117     6772            8       100   19        280    628     0        1   \n",
       "11118     2042           16        98   22        270    462     1        1   \n",
       "11119    24626            8        16   33        280    628     1        0   \n",
       "11120      967            8        74   33        280    628     1        0   \n",
       "\n",
       "       Working Professional  engagement_score_ridge  engagement_score_lasso  \\\n",
       "0                         0                4.104768                4.104601   \n",
       "1                         0                3.839753                3.839578   \n",
       "2                         1                2.766573                2.766684   \n",
       "3                         0                4.085669                4.085269   \n",
       "4                         0                2.738871                2.738313   \n",
       "...                     ...                     ...                     ...   \n",
       "11116                     0                4.037159                4.036608   \n",
       "11117                     0                3.395434                3.395397   \n",
       "11118                     0                4.077724                4.077128   \n",
       "11119                     0                3.667593                3.667342   \n",
       "11120                     1                3.454476                3.454760   \n",
       "\n",
       "       engagement_score_knn  engagement_score_dt  engagement_score_rf  row_id  \n",
       "0                  3.401034             4.109443             4.079172   89198  \n",
       "1                  3.164138             3.831422             3.370679   89199  \n",
       "2                  3.661034             2.720686             2.592641   89200  \n",
       "3                  3.630345             4.033378             3.727879   89201  \n",
       "4                  3.018966             0.000000             1.654284   89202  \n",
       "...                     ...                  ...                  ...     ...  \n",
       "11116              3.384138             3.957541             3.426137  100314  \n",
       "11117              3.753793             3.488652             3.112287  100315  \n",
       "11118              3.367241             3.884439             3.490755  100316  \n",
       "11119              3.397241             3.730905             3.856555  100317  \n",
       "11120              3.603103             3.413830             3.324160  100318  \n",
       "\n",
       "[11121 rows x 15 columns]"
      ]
     },
     "execution_count": 67,
     "metadata": {},
     "output_type": "execute_result"
    }
   ],
   "source": [
    "test_data"
   ]
  },
  {
   "cell_type": "code",
   "execution_count": 68,
   "metadata": {
    "execution": {
     "iopub.execute_input": "2022-02-13T09:27:57.714882Z",
     "iopub.status.busy": "2022-02-13T09:27:57.714333Z",
     "iopub.status.idle": "2022-02-13T09:27:57.849445Z",
     "shell.execute_reply": "2022-02-13T09:27:57.848754Z",
     "shell.execute_reply.started": "2022-02-13T09:27:57.714841Z"
    }
   },
   "outputs": [],
   "source": [
    "test_data.to_csv(\"predictions.csv\")"
   ]
  },
  {
   "cell_type": "code",
   "execution_count": null,
   "metadata": {},
   "outputs": [],
   "source": []
  }
 ],
 "metadata": {
  "kernelspec": {
   "display_name": "Python 3",
   "language": "python",
   "name": "python3"
  },
  "language_info": {
   "codemirror_mode": {
    "name": "ipython",
    "version": 3
   },
   "file_extension": ".py",
   "mimetype": "text/x-python",
   "name": "python",
   "nbconvert_exporter": "python",
   "pygments_lexer": "ipython3",
   "version": "3.8.8"
  }
 },
 "nbformat": 4,
 "nbformat_minor": 4
}
